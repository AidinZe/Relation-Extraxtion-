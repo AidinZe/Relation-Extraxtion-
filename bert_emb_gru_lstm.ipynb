{
 "cells": [
  {
   "cell_type": "markdown",
   "metadata": {
    "colab_type": "text",
    "id": "0ZfCqtBQLvk7"
   },
   "source": [
    "# **relation italicized text extraction with GRU & LSTM model and Bert embeding**"
   ]
  },
  {
   "cell_type": "code",
   "execution_count": 0,
   "metadata": {
    "colab": {},
    "colab_type": "code",
    "id": "sbLKbMNFLoEj",
    "scrolled": true
   },
   "outputs": [],
   "source": [
    "import pandas as pd\n",
    "from tensorflow.keras.preprocessing.text import Tokenizer\n",
    "from tensorflow.keras.preprocessing.sequence import pad_sequences\n",
    "from keras.utils import to_categorical\n",
    "from sklearn.model_selection import train_test_split\n",
    "from tensorflow.keras import Sequential ,Model\n",
    "from tensorflow.keras.layers import Bidirectional,GRU,LSTM,Dense,Embedding,Input,Dropout\n",
    "from sklearn.metrics import confusion_matrix,classification_report\n",
    "from sklearn.utils.multiclass import unique_labels\n",
    "import numpy as np\n",
    "import matplotlib.pyplot as plt"
   ]
  },
  {
   "cell_type": "markdown",
   "metadata": {
    "colab_type": "text",
    "id": "R6-gv-Jsv5T0"
   },
   "source": [
    "# **plot_confusion_matrix definition**"
   ]
  },
  {
   "cell_type": "code",
   "execution_count": 0,
   "metadata": {
    "colab": {},
    "colab_type": "code",
    "id": "IXwoR1euqz6w"
   },
   "outputs": [],
   "source": [
    "def plot_confusion_matrix(y_true, y_pred, classes,\n",
    "                          normalize=False,\n",
    "                          title=None,\n",
    "                          cmap=plt.cm.Blues):\n",
    "    \"\"\"\n",
    "    This function prints and plots the confusion matrix.\n",
    "    Normalization can be applied by setting `normalize=True`.\n",
    "    \"\"\"\n",
    "    if not title:\n",
    "        if normalize:\n",
    "            title = 'Normalized confusion matrix'\n",
    "        else:\n",
    "            title = 'Confusion matrix, without normalization'\n",
    "\n",
    "    # Compute confusion matrix\n",
    "    cm = confusion_matrix(y_true, y_pred)\n",
    "    # Only use the labels that appear in the data\n",
    "    classes = classes[unique_labels(y_true, y_pred)]\n",
    "    if normalize:\n",
    "        cm = cm.astype('float') / cm.sum(axis=1)[:, np.newaxis]\n",
    "        print(\"Normalized confusion matrix\")\n",
    "    else:\n",
    "        print('Confusion matrix, without normalization')\n",
    "\n",
    "\n",
    "    fig, ax = plt.subplots()\n",
    "    im = ax.imshow(cm, interpolation='nearest', cmap=cmap)\n",
    "    ax.figure.colorbar(im, ax=ax)\n",
    "    # We want to show all ticks...\n",
    "    ax.set(xticks=np.arange(cm.shape[1]),\n",
    "           yticks=np.arange(cm.shape[0]),\n",
    "           # ... and label them with the respective list entries\n",
    "           xticklabels=classes, yticklabels=classes,\n",
    "           title=title,\n",
    "           ylabel='True label',\n",
    "           xlabel='Predicted label')\n",
    "\n",
    "    # Rotate the tick labels and set their alignment.\n",
    "    plt.setp(ax.get_xticklabels(), rotation=45, ha=\"right\",\n",
    "             rotation_mode=\"anchor\")\n",
    "\n",
    "    # Loop over data dimensions and create text annotations.\n",
    "    fmt = '.2f' if normalize else 'd'\n",
    "    thresh = cm.max() / 2.\n",
    "    for i in range(cm.shape[0]):\n",
    "        for j in range(cm.shape[1]):\n",
    "            ax.text(j, i, format(cm[i, j], fmt),\n",
    "                    ha=\"center\", va=\"center\",\n",
    "                    color=\"white\" if cm[i, j] > thresh else \"black\")\n",
    "    fig.tight_layout()\n",
    "    return ax"
   ]
  },
  {
   "cell_type": "markdown",
   "metadata": {
    "colab_type": "text",
    "id": "uK5FnU5vwD4a"
   },
   "source": [
    "# **read and split dataset**"
   ]
  },
  {
   "cell_type": "code",
   "execution_count": 0,
   "metadata": {
    "colab": {},
    "colab_type": "code",
    "id": "4IurJsMPqz68"
   },
   "outputs": [],
   "source": [
    "df = pd.read_excel('SemEval2010_task8.xls')"
   ]
  },
  {
   "cell_type": "code",
   "execution_count": 5,
   "metadata": {
    "colab": {
     "base_uri": "https://localhost:8080/",
     "height": 165,
     "referenced_widgets": [
      "39398b957f0d4a86aba040c85d39283b",
      "9ddce2e1cb1648fbaa533a4022afc541",
      "2598b4a67fd44c1c96166a89182c28d8",
      "10d6ec168a7d4d979ee551d64aa4e2c2",
      "e21e89f9323e476ca06f1c76bf91d640",
      "b168792c6a514946ba7278546d40ef9f",
      "949bbd6293d54d02af79ab3346a354c1",
      "a8df59913eca4deb9570977eff4a040a",
      "34d3c22ebc7e4f33b2228b7f99c9ef53",
      "83a22711e2684fe2ba0fe139ce53931d",
      "bc556d532733490cb88f0bee210bb46a",
      "fa1167b5723143e4b1ede0c5e0356d1d",
      "36fdde1a69db47a395e6143c3e8d87d0",
      "5f2dbfe544fd4550b44fba977b08365d",
      "7d0a66b3ef994d7db0b62c3cc17ced11",
      "3625aee2356340adaf855b3bbf45cd20",
      "a064d913af7c4d82ab4055f0b21fce19",
      "6623517d60e54ee99b84abd945baea26",
      "a027f63b438c44c5a4abdbac032d6635",
      "2c492aa4ed684258aa3d3919c099bdaa",
      "14bf95dea3644450a87de666204a23b8",
      "4a2378896848469395966faa0f9ea892",
      "0af3e8412f1e41618334aa3fbc722402",
      "3846ed8120c342b5b4bd10015e4d86ac"
     ]
    },
    "colab_type": "code",
    "executionInfo": {
     "elapsed": 9486,
     "status": "ok",
     "timestamp": 1589996854082,
     "user": {
      "displayName": "Aidin Zehtab",
      "photoUrl": "https://lh3.googleusercontent.com/a-/AOh14Gh1AfLrAaNilXGI3VZU2KwKhp3IIw0ikwf3L4LH3g=s64",
      "userId": "16441557016137319648"
     },
     "user_tz": -270
    },
    "id": "a-QSgv818mIF",
    "outputId": "036fd3fc-1e85-4636-8ee8-6e38f5e6d3c1"
   },
   "outputs": [
    {
     "data": {
      "application/vnd.jupyter.widget-view+json": {
       "model_id": "39398b957f0d4a86aba040c85d39283b",
       "version_major": 2,
       "version_minor": 0
      },
      "text/plain": [
       "HBox(children=(FloatProgress(value=0.0, description='Downloading', max=383.0, style=ProgressStyle(description_…"
      ]
     },
     "metadata": {
      "tags": []
     },
     "output_type": "display_data"
    },
    {
     "name": "stdout",
     "output_type": "stream",
     "text": [
      "\n"
     ]
    },
    {
     "data": {
      "application/vnd.jupyter.widget-view+json": {
       "model_id": "34d3c22ebc7e4f33b2228b7f99c9ef53",
       "version_major": 2,
       "version_minor": 0
      },
      "text/plain": [
       "HBox(children=(FloatProgress(value=0.0, description='Downloading', max=231508.0, style=ProgressStyle(descripti…"
      ]
     },
     "metadata": {
      "tags": []
     },
     "output_type": "display_data"
    },
    {
     "name": "stdout",
     "output_type": "stream",
     "text": [
      "\n"
     ]
    },
    {
     "data": {
      "application/vnd.jupyter.widget-view+json": {
       "model_id": "a064d913af7c4d82ab4055f0b21fce19",
       "version_major": 2,
       "version_minor": 0
      },
      "text/plain": [
       "HBox(children=(FloatProgress(value=0.0, description='Downloading', max=141479251.0, style=ProgressStyle(descri…"
      ]
     },
     "metadata": {
      "tags": []
     },
     "output_type": "display_data"
    },
    {
     "name": "stdout",
     "output_type": "stream",
     "text": [
      "\n"
     ]
    }
   ],
   "source": [
    "#beart\n",
    "from transformers import AutoTokenizer, AutoModel, AutoModelWithLMHead\n",
    "import pickle\n",
    "import numpy as np\n",
    "from torch import tensor\n",
    "import json\n",
    "from nltk.tokenize import sent_tokenize\n",
    "from tqdm.notebook import tqdm\n",
    "\n",
    "tokenizer = AutoTokenizer.from_pretrained(\"google/bert_uncased_L-6_H-512_A-8\")\n",
    "model = AutoModel.from_pretrained(\"google/bert_uncased_L-6_H-512_A-8\")\n",
    "def create_embeddings(doc):\n",
    "  marked_text = \"[CLS] \" + doc + \" [SEP]\"\n",
    "  tokenized_text = tokenizer.tokenize(marked_text)\n",
    "  indexed_tokens = tokenizer.convert_tokens_to_ids(tokenized_text)\n",
    "  segments_ids = [1] * len(tokenized_text)\n",
    "  tokens_tensor = tensor([indexed_tokens])\n",
    "\n",
    "  segments_tensors = tensor([segments_ids])\n",
    "\n",
    "  encoded_layers, _= model(tokens_tensor, segments_tensors)\n",
    "  return encoded_layers, tokenized_text"
   ]
  },
  {
   "cell_type": "code",
   "execution_count": 6,
   "metadata": {
    "colab": {
     "base_uri": "https://localhost:8080/",
     "height": 69
    },
    "colab_type": "code",
    "executionInfo": {
     "elapsed": 2191,
     "status": "ok",
     "timestamp": 1589996856297,
     "user": {
      "displayName": "Aidin Zehtab",
      "photoUrl": "https://lh3.googleusercontent.com/a-/AOh14Gh1AfLrAaNilXGI3VZU2KwKhp3IIw0ikwf3L4LH3g=s64",
      "userId": "16441557016137319648"
     },
     "user_tz": -270
    },
    "id": "W3v74LzW-1rn",
    "outputId": "6489323a-0728-47da-e6ed-ca35bc7acc5c"
   },
   "outputs": [
    {
     "name": "stdout",
     "output_type": "stream",
     "text": [
      "[nltk_data] Downloading package punkt to /root/nltk_data...\n",
      "[nltk_data]   Unzipping tokenizers/punkt.zip.\n"
     ]
    },
    {
     "data": {
      "text/plain": [
       "True"
      ]
     },
     "execution_count": 6,
     "metadata": {
      "tags": []
     },
     "output_type": "execute_result"
    }
   ],
   "source": [
    "import nltk\n",
    "nltk.download('punkt')"
   ]
  },
  {
   "cell_type": "code",
   "execution_count": 7,
   "metadata": {
    "colab": {
     "base_uri": "https://localhost:8080/",
     "height": 66,
     "referenced_widgets": [
      "af1badc793e64eaf9b8de62d0659af06",
      "e0e4b6eb885b484a873d97eaa3aa9906",
      "ffce5c2d6cf64034ad002d3790d7d6fc",
      "b90f46b5b2a341738f18d459b9508bec",
      "95dd15e11d364e25981f05f8b5715f51",
      "45a602fe84184a3d87a87935be12df6e",
      "43c82375e670480db2981f809dd020cc",
      "d1f95816b12c4ac281db788d4ff3b08c"
     ]
    },
    "colab_type": "code",
    "executionInfo": {
     "elapsed": 2099,
     "status": "ok",
     "timestamp": 1589996856819,
     "user": {
      "displayName": "Aidin Zehtab",
      "photoUrl": "https://lh3.googleusercontent.com/a-/AOh14Gh1AfLrAaNilXGI3VZU2KwKhp3IIw0ikwf3L4LH3g=s64",
      "userId": "16441557016137319648"
     },
     "user_tz": -270
    },
    "id": "l5UqXY6o-iLU",
    "outputId": "8ea49513-3156-4a89-faec-a9a60258320c"
   },
   "outputs": [
    {
     "data": {
      "application/vnd.jupyter.widget-view+json": {
       "model_id": "af1badc793e64eaf9b8de62d0659af06",
       "version_major": 2,
       "version_minor": 0
      },
      "text/plain": [
       "HBox(children=(FloatProgress(value=0.0, max=8000.0), HTML(value='')))"
      ]
     },
     "metadata": {
      "tags": []
     },
     "output_type": "display_data"
    },
    {
     "name": "stdout",
     "output_type": "stream",
     "text": [
      "\n"
     ]
    }
   ],
   "source": [
    "from nltk.tokenize import sent_tokenize\n",
    "\n",
    "sent_tokenized_data = []\n",
    "for text in tqdm(df['sentences']):\n",
    "  sents = sent_tokenize(text)\n",
    "  temp = []\n",
    "  for sent in sents:\n",
    "    temp.append(sent.lower().replace(\".\",\"\"))\n",
    "  sent_tokenized_data.append(temp)"
   ]
  },
  {
   "cell_type": "code",
   "execution_count": 0,
   "metadata": {
    "colab": {},
    "colab_type": "code",
    "id": "tornA-VU9hDE"
   },
   "outputs": [],
   "source": [
    "max_doc_sents = max([len(s) for s in sent_tokenized_data])"
   ]
  },
  {
   "cell_type": "code",
   "execution_count": 0,
   "metadata": {
    "colab": {},
    "colab_type": "code",
    "id": "jzQOp81j9lAG"
   },
   "outputs": [],
   "source": [
    "doc_sents = [len(s) for s in sent_tokenized_data]"
   ]
  },
  {
   "cell_type": "code",
   "execution_count": 10,
   "metadata": {
    "colab": {
     "base_uri": "https://localhost:8080/",
     "height": 66,
     "referenced_widgets": [
      "d2129d16f57740bcb44adba2a1c1e0cb",
      "89943da2aab94981b4a535a8672db875",
      "0f5e94e97c634e6b99bfb221da59557c",
      "5889ea424e1c4aacbf774c53a4a3638a",
      "d8b85817348e4b01bc5b544d269b2a7c",
      "50e680957d5947b9aa2fac6e4eeabb28",
      "2ad2b61f33a147f88e3278c0f928b9d8",
      "23c9db8b5f0d4c1a9dc4a2042287169c"
     ]
    },
    "colab_type": "code",
    "executionInfo": {
     "elapsed": 412271,
     "status": "ok",
     "timestamp": 1589997271647,
     "user": {
      "displayName": "Aidin Zehtab",
      "photoUrl": "https://lh3.googleusercontent.com/a-/AOh14Gh1AfLrAaNilXGI3VZU2KwKhp3IIw0ikwf3L4LH3g=s64",
      "userId": "16441557016137319648"
     },
     "user_tz": -270
    },
    "id": "thGZMrti9CtK",
    "outputId": "1bf08b03-c9b3-46aa-fb44-3d86843a9e68"
   },
   "outputs": [
    {
     "data": {
      "application/vnd.jupyter.widget-view+json": {
       "model_id": "d2129d16f57740bcb44adba2a1c1e0cb",
       "version_major": 2,
       "version_minor": 0
      },
      "text/plain": [
       "HBox(children=(FloatProgress(value=0.0, max=8000.0), HTML(value='')))"
      ]
     },
     "metadata": {
      "tags": []
     },
     "output_type": "display_data"
    },
    {
     "name": "stdout",
     "output_type": "stream",
     "text": [
      "\n"
     ]
    }
   ],
   "source": [
    "embeddings = np.zeros((len(sent_tokenized_data),max_doc_sents,512))\n",
    "i=0\n",
    "for sample in tqdm(sent_tokenized_data):\n",
    "  for j,sent in enumerate(sample):\n",
    "    if len(sent.split(\" \")) > 200:\n",
    "      sent = sent[:1500]\n",
    "    embeddings[i,j]=create_embeddings(sent)[0][0][0].detach().numpy()\n",
    "  i+=1"
   ]
  },
  {
   "cell_type": "code",
   "execution_count": 0,
   "metadata": {
    "colab": {},
    "colab_type": "code",
    "id": "5yPkqdzOqz7N"
   },
   "outputs": [],
   "source": [
    "codeOfLabals = []\n",
    "for i in df['labels']:\n",
    "    codeOfLabals.append(list(df.labels.unique()).index(i))"
   ]
  },
  {
   "cell_type": "code",
   "execution_count": 13,
   "metadata": {
    "colab": {
     "base_uri": "https://localhost:8080/",
     "height": 86
    },
    "colab_type": "code",
    "executionInfo": {
     "elapsed": 835,
     "status": "ok",
     "timestamp": 1589997305714,
     "user": {
      "displayName": "Aidin Zehtab",
      "photoUrl": "https://lh3.googleusercontent.com/a-/AOh14Gh1AfLrAaNilXGI3VZU2KwKhp3IIw0ikwf3L4LH3g=s64",
      "userId": "16441557016137319648"
     },
     "user_tz": -270
    },
    "id": "Iu6AqNKuqz7U",
    "outputId": "99ff1598-a5fc-4824-aa9a-934d4a9ec6a2",
    "scrolled": true
   },
   "outputs": [
    {
     "data": {
      "text/plain": [
       "array(['Component-Whole', 'Other', 'Instrument-Agency',\n",
       "       'Member-Collection', 'Cause-Effect', 'Entity-Destination',\n",
       "       'Content-Container', 'Message-Topic', 'Product-Producer',\n",
       "       'Entity-Origin'], dtype=object)"
      ]
     },
     "execution_count": 13,
     "metadata": {
      "tags": []
     },
     "output_type": "execute_result"
    }
   ],
   "source": [
    "df.labels.unique()"
   ]
  },
  {
   "cell_type": "code",
   "execution_count": 0,
   "metadata": {
    "colab": {},
    "colab_type": "code",
    "id": "3JtY9l6oqz7c",
    "scrolled": true
   },
   "outputs": [],
   "source": [
    "labels = to_categorical(codeOfLabals, num_classes=len(df.labels.unique())) # from keras.utils.np_utils"
   ]
  },
  {
   "cell_type": "code",
   "execution_count": 0,
   "metadata": {
    "colab": {},
    "colab_type": "code",
    "id": "BDdF061wqz7i"
   },
   "outputs": [],
   "source": [
    "X_train, X_test, y_train, y_test = train_test_split(embeddings , labels, test_size=0.20, random_state=42)"
   ]
  },
  {
   "cell_type": "markdown",
   "metadata": {
    "colab_type": "text",
    "id": "dGqpz_kuzvba"
   },
   "source": [
    "# **create LSTM model**"
   ]
  },
  {
   "cell_type": "code",
   "execution_count": 0,
   "metadata": {
    "colab": {},
    "colab_type": "code",
    "id": "RJHTOe_7qz7o"
   },
   "outputs": [],
   "source": [
    "inpu = Input((3,512))\n",
    "bi = (Bidirectional(LSTM(256, dropout=0.7, recurrent_dropout=0.7)))(inpu)\n",
    "drop= Dropout(0.5)(bi)\n",
    "out = (Dense(labels.shape[1], activation='softmax'))(drop)\n",
    "model = Model(inpu,out)"
   ]
  },
  {
   "cell_type": "code",
   "execution_count": 0,
   "metadata": {
    "colab": {},
    "colab_type": "code",
    "id": "duyHEIg6qz7u"
   },
   "outputs": [],
   "source": [
    "model.compile(optimizer='RMSProp', loss='categorical_crossentropy', metrics=['acc'])"
   ]
  },
  {
   "cell_type": "code",
   "execution_count": 25,
   "metadata": {
    "colab": {
     "base_uri": "https://localhost:8080/",
     "height": 295
    },
    "colab_type": "code",
    "executionInfo": {
     "elapsed": 749,
     "status": "ok",
     "timestamp": 1589997504246,
     "user": {
      "displayName": "Aidin Zehtab",
      "photoUrl": "https://lh3.googleusercontent.com/a-/AOh14Gh1AfLrAaNilXGI3VZU2KwKhp3IIw0ikwf3L4LH3g=s64",
      "userId": "16441557016137319648"
     },
     "user_tz": -270
    },
    "id": "1W4tTKQdqz71",
    "outputId": "3de169e1-acac-4416-a2d2-1cdbb0a065cf"
   },
   "outputs": [
    {
     "name": "stdout",
     "output_type": "stream",
     "text": [
      "Model: \"model_1\"\n",
      "_________________________________________________________________\n",
      "Layer (type)                 Output Shape              Param #   \n",
      "=================================================================\n",
      "input_3 (InputLayer)         [(None, 3, 512)]          0         \n",
      "_________________________________________________________________\n",
      "bidirectional_2 (Bidirection (None, 512)               1574912   \n",
      "_________________________________________________________________\n",
      "dropout_1 (Dropout)          (None, 512)               0         \n",
      "_________________________________________________________________\n",
      "dense_1 (Dense)              (None, 10)                5130      \n",
      "=================================================================\n",
      "Total params: 1,580,042\n",
      "Trainable params: 1,580,042\n",
      "Non-trainable params: 0\n",
      "_________________________________________________________________\n"
     ]
    }
   ],
   "source": [
    "model.summary()"
   ]
  },
  {
   "cell_type": "markdown",
   "metadata": {
    "colab_type": "text",
    "id": "-2zdKsBMz56s"
   },
   "source": [
    "fit model"
   ]
  },
  {
   "cell_type": "code",
   "execution_count": 26,
   "metadata": {
    "colab": {
     "base_uri": "https://localhost:8080/",
     "height": 1000
    },
    "colab_type": "code",
    "executionInfo": {
     "elapsed": 196705,
     "status": "ok",
     "timestamp": 1589997705834,
     "user": {
      "displayName": "Aidin Zehtab",
      "photoUrl": "https://lh3.googleusercontent.com/a-/AOh14Gh1AfLrAaNilXGI3VZU2KwKhp3IIw0ikwf3L4LH3g=s64",
      "userId": "16441557016137319648"
     },
     "user_tz": -270
    },
    "id": "BtkkglTlqz79",
    "outputId": "df31437f-15b8-4785-9942-f99f2e14fbcf",
    "scrolled": true
   },
   "outputs": [
    {
     "name": "stdout",
     "output_type": "stream",
     "text": [
      "Epoch 1/30\n",
      "40/40 [==============================] - 7s 170ms/step - loss: 2.0330 - acc: 0.2770 - val_loss: 1.7137 - val_acc: 0.3672\n",
      "Epoch 2/30\n",
      "40/40 [==============================] - 6s 151ms/step - loss: 1.7236 - acc: 0.3912 - val_loss: 1.5618 - val_acc: 0.4461\n",
      "Epoch 3/30\n",
      "40/40 [==============================] - 6s 151ms/step - loss: 1.6210 - acc: 0.4311 - val_loss: 1.5052 - val_acc: 0.4641\n",
      "Epoch 4/30\n",
      "40/40 [==============================] - 6s 150ms/step - loss: 1.5618 - acc: 0.4471 - val_loss: 1.4487 - val_acc: 0.4836\n",
      "Epoch 5/30\n",
      "40/40 [==============================] - 6s 152ms/step - loss: 1.5243 - acc: 0.4594 - val_loss: 1.4291 - val_acc: 0.4969\n",
      "Epoch 6/30\n",
      "40/40 [==============================] - 6s 151ms/step - loss: 1.4988 - acc: 0.4754 - val_loss: 1.4084 - val_acc: 0.4961\n",
      "Epoch 7/30\n",
      "40/40 [==============================] - 6s 152ms/step - loss: 1.4726 - acc: 0.4785 - val_loss: 1.4082 - val_acc: 0.4961\n",
      "Epoch 8/30\n",
      "40/40 [==============================] - 6s 151ms/step - loss: 1.4614 - acc: 0.4834 - val_loss: 1.3856 - val_acc: 0.5133\n",
      "Epoch 9/30\n",
      "40/40 [==============================] - 6s 150ms/step - loss: 1.4138 - acc: 0.5035 - val_loss: 1.3973 - val_acc: 0.5086\n",
      "Epoch 10/30\n",
      "40/40 [==============================] - 6s 151ms/step - loss: 1.4113 - acc: 0.4996 - val_loss: 1.3722 - val_acc: 0.5219\n",
      "Epoch 11/30\n",
      "40/40 [==============================] - 6s 150ms/step - loss: 1.4029 - acc: 0.5043 - val_loss: 1.3893 - val_acc: 0.5117\n",
      "Epoch 12/30\n",
      "40/40 [==============================] - 6s 151ms/step - loss: 1.3857 - acc: 0.5076 - val_loss: 1.3536 - val_acc: 0.5078\n",
      "Epoch 13/30\n",
      "40/40 [==============================] - 7s 165ms/step - loss: 1.3683 - acc: 0.5195 - val_loss: 1.3546 - val_acc: 0.5117\n",
      "Epoch 14/30\n",
      "40/40 [==============================] - 7s 164ms/step - loss: 1.3494 - acc: 0.5199 - val_loss: 1.3567 - val_acc: 0.5305\n",
      "Epoch 15/30\n",
      "40/40 [==============================] - 6s 158ms/step - loss: 1.3485 - acc: 0.5164 - val_loss: 1.3353 - val_acc: 0.5344\n",
      "Epoch 16/30\n",
      "40/40 [==============================] - 6s 155ms/step - loss: 1.3285 - acc: 0.5246 - val_loss: 1.3451 - val_acc: 0.5250\n",
      "Epoch 17/30\n",
      "40/40 [==============================] - 6s 157ms/step - loss: 1.3199 - acc: 0.5365 - val_loss: 1.3452 - val_acc: 0.5234\n",
      "Epoch 18/30\n",
      "40/40 [==============================] - 6s 160ms/step - loss: 1.3061 - acc: 0.5299 - val_loss: 1.3300 - val_acc: 0.5359\n",
      "Epoch 19/30\n",
      "40/40 [==============================] - 6s 159ms/step - loss: 1.2890 - acc: 0.5459 - val_loss: 1.3498 - val_acc: 0.5305\n",
      "Epoch 20/30\n",
      "40/40 [==============================] - 6s 162ms/step - loss: 1.2809 - acc: 0.5479 - val_loss: 1.3431 - val_acc: 0.5312\n",
      "Epoch 21/30\n",
      "40/40 [==============================] - 7s 163ms/step - loss: 1.2755 - acc: 0.5512 - val_loss: 1.3392 - val_acc: 0.5266\n",
      "Epoch 22/30\n",
      "40/40 [==============================] - 7s 163ms/step - loss: 1.2473 - acc: 0.5572 - val_loss: 1.3433 - val_acc: 0.5250\n",
      "Epoch 23/30\n",
      "40/40 [==============================] - 7s 164ms/step - loss: 1.2594 - acc: 0.5584 - val_loss: 1.3336 - val_acc: 0.5344\n",
      "Epoch 24/30\n",
      "40/40 [==============================] - 7s 163ms/step - loss: 1.2550 - acc: 0.5496 - val_loss: 1.3356 - val_acc: 0.5234\n",
      "Epoch 25/30\n",
      "40/40 [==============================] - 7s 165ms/step - loss: 1.2270 - acc: 0.5635 - val_loss: 1.3166 - val_acc: 0.5430\n",
      "Epoch 26/30\n",
      "40/40 [==============================] - 7s 165ms/step - loss: 1.2361 - acc: 0.5613 - val_loss: 1.3232 - val_acc: 0.5367\n",
      "Epoch 27/30\n",
      "40/40 [==============================] - 6s 155ms/step - loss: 1.2270 - acc: 0.5668 - val_loss: 1.3277 - val_acc: 0.5359\n",
      "Epoch 28/30\n",
      "40/40 [==============================] - 6s 151ms/step - loss: 1.2108 - acc: 0.5660 - val_loss: 1.3086 - val_acc: 0.5414\n",
      "Epoch 29/30\n",
      "40/40 [==============================] - 6s 150ms/step - loss: 1.2108 - acc: 0.5709 - val_loss: 1.3359 - val_acc: 0.5305\n",
      "Epoch 30/30\n",
      "40/40 [==============================] - 6s 150ms/step - loss: 1.1869 - acc: 0.5789 - val_loss: 1.3220 - val_acc: 0.5422\n"
     ]
    },
    {
     "data": {
      "text/plain": [
       "<tensorflow.python.keras.callbacks.History at 0x7f6cd40e6470>"
      ]
     },
     "execution_count": 26,
     "metadata": {
      "tags": []
     },
     "output_type": "execute_result"
    }
   ],
   "source": [
    "model.fit(X_train, y_train, epochs=30, batch_size=128, validation_split=0.2)"
   ]
  },
  {
   "cell_type": "markdown",
   "metadata": {
    "colab_type": "text",
    "id": "IrhRApegHdpq"
   },
   "source": [
    "# **create GRU model**"
   ]
  },
  {
   "cell_type": "code",
   "execution_count": 0,
   "metadata": {
    "colab": {},
    "colab_type": "code",
    "id": "bwCdyonAHdpx"
   },
   "outputs": [],
   "source": [
    "inpu = Input((3,512))\n",
    "bi = (Bidirectional(GRU(256, dropout=0.7, recurrent_dropout=0.7)))(inpu)\n",
    "drop= Dropout(0.5)(bi)\n",
    "out = (Dense(labels.shape[1], activation='softmax'))(drop)\n",
    "model = Model(inpu,out)"
   ]
  },
  {
   "cell_type": "code",
   "execution_count": 0,
   "metadata": {
    "colab": {},
    "colab_type": "code",
    "id": "BfyEJX8NHdqC"
   },
   "outputs": [],
   "source": [
    "model.compile(optimizer='RMSProp', loss='categorical_crossentropy', metrics=['acc'])"
   ]
  },
  {
   "cell_type": "code",
   "execution_count": 33,
   "metadata": {
    "colab": {
     "base_uri": "https://localhost:8080/",
     "height": 295
    },
    "colab_type": "code",
    "executionInfo": {
     "elapsed": 815,
     "status": "ok",
     "timestamp": 1589997754747,
     "user": {
      "displayName": "Aidin Zehtab",
      "photoUrl": "https://lh3.googleusercontent.com/a-/AOh14Gh1AfLrAaNilXGI3VZU2KwKhp3IIw0ikwf3L4LH3g=s64",
      "userId": "16441557016137319648"
     },
     "user_tz": -270
    },
    "id": "7spO8OiSHdqS",
    "outputId": "01b126e2-2442-4f86-ce0a-6f199c6dfbee"
   },
   "outputs": [
    {
     "name": "stdout",
     "output_type": "stream",
     "text": [
      "Model: \"model_2\"\n",
      "_________________________________________________________________\n",
      "Layer (type)                 Output Shape              Param #   \n",
      "=================================================================\n",
      "input_4 (InputLayer)         [(None, 3, 512)]          0         \n",
      "_________________________________________________________________\n",
      "bidirectional_3 (Bidirection (None, 512)               1182720   \n",
      "_________________________________________________________________\n",
      "dropout_2 (Dropout)          (None, 512)               0         \n",
      "_________________________________________________________________\n",
      "dense_2 (Dense)              (None, 10)                5130      \n",
      "=================================================================\n",
      "Total params: 1,187,850\n",
      "Trainable params: 1,187,850\n",
      "Non-trainable params: 0\n",
      "_________________________________________________________________\n"
     ]
    }
   ],
   "source": [
    "model.summary()"
   ]
  },
  {
   "cell_type": "markdown",
   "metadata": {
    "colab_type": "text",
    "id": "R0ICkAc6Hdqa"
   },
   "source": [
    "fit model"
   ]
  },
  {
   "cell_type": "code",
   "execution_count": 35,
   "metadata": {
    "colab": {
     "base_uri": "https://localhost:8080/",
     "height": 1000
    },
    "colab_type": "code",
    "executionInfo": {
     "elapsed": 166851,
     "status": "ok",
     "timestamp": 1589997934311,
     "user": {
      "displayName": "Aidin Zehtab",
      "photoUrl": "https://lh3.googleusercontent.com/a-/AOh14Gh1AfLrAaNilXGI3VZU2KwKhp3IIw0ikwf3L4LH3g=s64",
      "userId": "16441557016137319648"
     },
     "user_tz": -270
    },
    "id": "fVT_VMDTHdqc",
    "outputId": "a863a3f6-064a-4904-d945-f22d72069c6d",
    "scrolled": true
   },
   "outputs": [
    {
     "name": "stdout",
     "output_type": "stream",
     "text": [
      "Epoch 1/30\n",
      "40/40 [==============================] - 6s 148ms/step - loss: 2.0239 - acc: 0.2811 - val_loss: 1.6859 - val_acc: 0.3828\n",
      "Epoch 2/30\n",
      "40/40 [==============================] - 5s 136ms/step - loss: 1.7467 - acc: 0.3840 - val_loss: 1.5780 - val_acc: 0.4266\n",
      "Epoch 3/30\n",
      "40/40 [==============================] - 5s 135ms/step - loss: 1.6470 - acc: 0.4209 - val_loss: 1.5200 - val_acc: 0.4539\n",
      "Epoch 4/30\n",
      "40/40 [==============================] - 5s 134ms/step - loss: 1.5883 - acc: 0.4506 - val_loss: 1.4853 - val_acc: 0.4727\n",
      "Epoch 5/30\n",
      "40/40 [==============================] - 5s 134ms/step - loss: 1.5484 - acc: 0.4514 - val_loss: 1.4246 - val_acc: 0.4859\n",
      "Epoch 6/30\n",
      "40/40 [==============================] - 5s 134ms/step - loss: 1.5223 - acc: 0.4602 - val_loss: 1.4123 - val_acc: 0.4977\n",
      "Epoch 7/30\n",
      "40/40 [==============================] - 5s 133ms/step - loss: 1.5093 - acc: 0.4645 - val_loss: 1.4024 - val_acc: 0.5125\n",
      "Epoch 8/30\n",
      "40/40 [==============================] - 5s 134ms/step - loss: 1.4834 - acc: 0.4820 - val_loss: 1.3820 - val_acc: 0.5039\n",
      "Epoch 9/30\n",
      "40/40 [==============================] - 5s 133ms/step - loss: 1.4618 - acc: 0.4844 - val_loss: 1.3884 - val_acc: 0.5188\n",
      "Epoch 10/30\n",
      "40/40 [==============================] - 5s 135ms/step - loss: 1.4449 - acc: 0.4908 - val_loss: 1.3670 - val_acc: 0.5164\n",
      "Epoch 11/30\n",
      "40/40 [==============================] - 6s 138ms/step - loss: 1.4312 - acc: 0.4973 - val_loss: 1.3544 - val_acc: 0.5258\n",
      "Epoch 12/30\n",
      "40/40 [==============================] - 5s 134ms/step - loss: 1.4193 - acc: 0.4951 - val_loss: 1.3687 - val_acc: 0.5164\n",
      "Epoch 13/30\n",
      "40/40 [==============================] - 5s 134ms/step - loss: 1.3981 - acc: 0.5004 - val_loss: 1.3633 - val_acc: 0.5148\n",
      "Epoch 14/30\n",
      "40/40 [==============================] - 5s 135ms/step - loss: 1.3764 - acc: 0.5145 - val_loss: 1.3527 - val_acc: 0.5172\n",
      "Epoch 15/30\n",
      "40/40 [==============================] - 5s 135ms/step - loss: 1.3771 - acc: 0.5158 - val_loss: 1.3536 - val_acc: 0.5063\n",
      "Epoch 16/30\n",
      "40/40 [==============================] - 5s 134ms/step - loss: 1.3575 - acc: 0.5145 - val_loss: 1.3587 - val_acc: 0.5234\n",
      "Epoch 17/30\n",
      "40/40 [==============================] - 5s 136ms/step - loss: 1.3315 - acc: 0.5271 - val_loss: 1.3396 - val_acc: 0.5211\n",
      "Epoch 18/30\n",
      "40/40 [==============================] - 5s 135ms/step - loss: 1.3220 - acc: 0.5338 - val_loss: 1.3429 - val_acc: 0.5227\n",
      "Epoch 19/30\n",
      "40/40 [==============================] - 5s 134ms/step - loss: 1.3117 - acc: 0.5385 - val_loss: 1.3385 - val_acc: 0.5281\n",
      "Epoch 20/30\n",
      "40/40 [==============================] - 5s 133ms/step - loss: 1.3088 - acc: 0.5359 - val_loss: 1.3298 - val_acc: 0.5320\n",
      "Epoch 21/30\n",
      "40/40 [==============================] - 5s 132ms/step - loss: 1.3086 - acc: 0.5344 - val_loss: 1.3438 - val_acc: 0.5336\n",
      "Epoch 22/30\n",
      "40/40 [==============================] - 5s 133ms/step - loss: 1.2875 - acc: 0.5412 - val_loss: 1.3302 - val_acc: 0.5312\n",
      "Epoch 23/30\n",
      "40/40 [==============================] - 5s 134ms/step - loss: 1.2784 - acc: 0.5443 - val_loss: 1.3259 - val_acc: 0.5273\n",
      "Epoch 24/30\n",
      "40/40 [==============================] - 5s 133ms/step - loss: 1.2684 - acc: 0.5496 - val_loss: 1.3303 - val_acc: 0.5180\n",
      "Epoch 25/30\n",
      "40/40 [==============================] - 5s 134ms/step - loss: 1.2632 - acc: 0.5479 - val_loss: 1.3447 - val_acc: 0.5305\n",
      "Epoch 26/30\n",
      "40/40 [==============================] - 5s 134ms/step - loss: 1.2615 - acc: 0.5430 - val_loss: 1.3230 - val_acc: 0.5234\n",
      "Epoch 27/30\n",
      "40/40 [==============================] - 5s 135ms/step - loss: 1.2537 - acc: 0.5553 - val_loss: 1.3237 - val_acc: 0.5305\n",
      "Epoch 28/30\n",
      "40/40 [==============================] - 5s 135ms/step - loss: 1.2625 - acc: 0.5584 - val_loss: 1.3060 - val_acc: 0.5344\n",
      "Epoch 29/30\n",
      "40/40 [==============================] - 5s 134ms/step - loss: 1.2431 - acc: 0.5551 - val_loss: 1.3130 - val_acc: 0.5352\n",
      "Epoch 30/30\n",
      "40/40 [==============================] - 5s 135ms/step - loss: 1.2333 - acc: 0.5580 - val_loss: 1.2999 - val_acc: 0.5430\n"
     ]
    },
    {
     "data": {
      "text/plain": [
       "<tensorflow.python.keras.callbacks.History at 0x7f6cce5f41d0>"
      ]
     },
     "execution_count": 35,
     "metadata": {
      "tags": []
     },
     "output_type": "execute_result"
    }
   ],
   "source": [
    "model.fit(X_train, y_train, epochs=30, batch_size=128, validation_split=0.2)"
   ]
  },
  {
   "cell_type": "markdown",
   "metadata": {
    "colab_type": "text",
    "id": "H3CDM8hzz_wK"
   },
   "source": [
    "# **reports**"
   ]
  },
  {
   "cell_type": "code",
   "execution_count": 27,
   "metadata": {
    "colab": {
     "base_uri": "https://localhost:8080/",
     "height": 330
    },
    "colab_type": "code",
    "executionInfo": {
     "elapsed": 2167,
     "status": "ok",
     "timestamp": 1589997714551,
     "user": {
      "displayName": "Aidin Zehtab",
      "photoUrl": "https://lh3.googleusercontent.com/a-/AOh14Gh1AfLrAaNilXGI3VZU2KwKhp3IIw0ikwf3L4LH3g=s64",
      "userId": "16441557016137319648"
     },
     "user_tz": -270
    },
    "id": "qXDbbLZxqz8E",
    "outputId": "5cc88093-1a18-4e9c-f56d-d518236c4838"
   },
   "outputs": [
    {
     "name": "stdout",
     "output_type": "stream",
     "text": [
      "classification_report\n",
      "              precision    recall  f1-score   support\n",
      "\n",
      "           0      0.620     0.579     0.598       197\n",
      "           1      0.323     0.315     0.319       260\n",
      "           2      0.478     0.434     0.455        99\n",
      "           3      0.620     0.647     0.633       136\n",
      "           4      0.717     0.714     0.715       199\n",
      "           5      0.553     0.829     0.663       158\n",
      "           6      0.750     0.646     0.694       130\n",
      "           7      0.522     0.727     0.608       132\n",
      "           8      0.563     0.379     0.453       153\n",
      "           9      0.479     0.338     0.397       136\n",
      "\n",
      "    accuracy                          0.552      1600\n",
      "   macro avg      0.562     0.561     0.554      1600\n",
      "weighted avg      0.553     0.552     0.546      1600\n",
      "\n"
     ]
    }
   ],
   "source": [
    "prediction_probas = model.predict(X_test) \n",
    "y_pred = [np.argmax(pred) for pred in prediction_probas]\n",
    "y__test=np.argmax(y_test, axis=1)\n",
    "labels_n = list(df.labels.unique())\n",
    "print('classification_report\\n'+classification_report(y__test, y_pred, digits=3))"
   ]
  },
  {
   "cell_type": "code",
   "execution_count": 30,
   "metadata": {
    "colab": {
     "base_uri": "https://localhost:8080/",
     "height": 314
    },
    "colab_type": "code",
    "executionInfo": {
     "elapsed": 1567,
     "status": "ok",
     "timestamp": 1589997743299,
     "user": {
      "displayName": "Aidin Zehtab",
      "photoUrl": "https://lh3.googleusercontent.com/a-/AOh14Gh1AfLrAaNilXGI3VZU2KwKhp3IIw0ikwf3L4LH3g=s64",
      "userId": "16441557016137319648"
     },
     "user_tz": -270
    },
    "id": "u7trm20Rqz8Q",
    "outputId": "5c392041-43a0-4bb3-db28-2fe424422ddc"
   },
   "outputs": [
    {
     "name": "stdout",
     "output_type": "stream",
     "text": [
      "Confusion matrix, without normalization\n"
     ]
    },
    {
     "data": {
      "image/png": "[encoded data removed]",
      "text/plain": [
       "<Figure size 432x288 with 2 Axes>"
      ]
     },
     "metadata": {
      "needs_background": "light",
      "tags": []
     },
     "output_type": "display_data"
    }
   ],
   "source": [
    "plot_confusion_matrix(y__test,np.array(y_pred),np.array(labels_n))\n",
    "plt.show()\n"
   ]
  }
 ],
 "metadata": {
  "colab": {
   "collapsed_sections": [
    "R6-gv-Jsv5T0",
    "uK5FnU5vwD4a",
    "dGqpz_kuzvba",
    "H3CDM8hzz_wK"
   ],
   "name": "bert_emb_gru_lstm.ipynb",
   "provenance": []
  },
  "kernelspec": {
   "display_name": "Python 3",
   "language": "python",
   "name": "python3"
  },
  "language_info": {
   "codemirror_mode": {
    "name": "ipython",
    "version": 3
   },
   "file_extension": ".py",
   "mimetype": "text/x-python",
   "name": "python",
   "nbconvert_exporter": "python",
   "pygments_lexer": "ipython3",
   "version": "3.6.9"
  },
  "widgets": {
   "application/vnd.jupyter.widget-state+json": {
    "0af3e8412f1e41618334aa3fbc722402": {
     "model_module": "@jupyter-widgets/controls",
     "model_name": "DescriptionStyleModel",
     "state": {
      "_model_module": "@jupyter-widgets/controls",
      "_model_module_version": "1.5.0",
      "_model_name": "DescriptionStyleModel",
      "_view_count": null,
      "_view_module": "@jupyter-widgets/base",
      "_view_module_version": "1.2.0",
      "_view_name": "StyleView",
      "description_width": ""
     }
    },
    "0f5e94e97c634e6b99bfb221da59557c": {
     "model_module": "@jupyter-widgets/controls",
     "model_name": "FloatProgressModel",
     "state": {
      "_dom_classes": [],
      "_model_module": "@jupyter-widgets/controls",
      "_model_module_version": "1.5.0",
      "_model_name": "FloatProgressModel",
      "_view_count": null,
      "_view_module": "@jupyter-widgets/controls",
      "_view_module_version": "1.5.0",
      "_view_name": "ProgressView",
      "bar_style": "success",
      "description": "100%",
      "description_tooltip": null,
      "layout": "IPY_MODEL_50e680957d5947b9aa2fac6e4eeabb28",
      "max": 8000,
      "min": 0,
      "orientation": "horizontal",
      "style": "IPY_MODEL_d8b85817348e4b01bc5b544d269b2a7c",
      "value": 8000
     }
    },
    "10d6ec168a7d4d979ee551d64aa4e2c2": {
     "model_module": "@jupyter-widgets/controls",
     "model_name": "HTMLModel",
     "state": {
      "_dom_classes": [],
      "_model_module": "@jupyter-widgets/controls",
      "_model_module_version": "1.5.0",
      "_model_name": "HTMLModel",
      "_view_count": null,
      "_view_module": "@jupyter-widgets/controls",
      "_view_module_version": "1.5.0",
      "_view_name": "HTMLView",
      "description": "",
      "description_tooltip": null,
      "layout": "IPY_MODEL_a8df59913eca4deb9570977eff4a040a",
      "placeholder": "​",
      "style": "IPY_MODEL_949bbd6293d54d02af79ab3346a354c1",
      "value": " 383/383 [00:01&lt;00:00, 366B/s]"
     }
    },
    "14bf95dea3644450a87de666204a23b8": {
     "model_module": "@jupyter-widgets/controls",
     "model_name": "ProgressStyleModel",
     "state": {
      "_model_module": "@jupyter-widgets/controls",
      "_model_module_version": "1.5.0",
      "_model_name": "ProgressStyleModel",
      "_view_count": null,
      "_view_module": "@jupyter-widgets/base",
      "_view_module_version": "1.2.0",
      "_view_name": "StyleView",
      "bar_color": null,
      "description_width": "initial"
     }
    },
    "23c9db8b5f0d4c1a9dc4a2042287169c": {
     "model_module": "@jupyter-widgets/base",
     "model_name": "LayoutModel",
     "state": {
      "_model_module": "@jupyter-widgets/base",
      "_model_module_version": "1.2.0",
      "_model_name": "LayoutModel",
      "_view_count": null,
      "_view_module": "@jupyter-widgets/base",
      "_view_module_version": "1.2.0",
      "_view_name": "LayoutView",
      "align_content": null,
      "align_items": null,
      "align_self": null,
      "border": null,
      "bottom": null,
      "display": null,
      "flex": null,
      "flex_flow": null,
      "grid_area": null,
      "grid_auto_columns": null,
      "grid_auto_flow": null,
      "grid_auto_rows": null,
      "grid_column": null,
      "grid_gap": null,
      "grid_row": null,
      "grid_template_areas": null,
      "grid_template_columns": null,
      "grid_template_rows": null,
      "height": null,
      "justify_content": null,
      "justify_items": null,
      "left": null,
      "margin": null,
      "max_height": null,
      "max_width": null,
      "min_height": null,
      "min_width": null,
      "object_fit": null,
      "object_position": null,
      "order": null,
      "overflow": null,
      "overflow_x": null,
      "overflow_y": null,
      "padding": null,
      "right": null,
      "top": null,
      "visibility": null,
      "width": null
     }
    },
    "2598b4a67fd44c1c96166a89182c28d8": {
     "model_module": "@jupyter-widgets/controls",
     "model_name": "FloatProgressModel",
     "state": {
      "_dom_classes": [],
      "_model_module": "@jupyter-widgets/controls",
      "_model_module_version": "1.5.0",
      "_model_name": "FloatProgressModel",
      "_view_count": null,
      "_view_module": "@jupyter-widgets/controls",
      "_view_module_version": "1.5.0",
      "_view_name": "ProgressView",
      "bar_style": "success",
      "description": "Downloading: 100%",
      "description_tooltip": null,
      "layout": "IPY_MODEL_b168792c6a514946ba7278546d40ef9f",
      "max": 383,
      "min": 0,
      "orientation": "horizontal",
      "style": "IPY_MODEL_e21e89f9323e476ca06f1c76bf91d640",
      "value": 383
     }
    },
    "2ad2b61f33a147f88e3278c0f928b9d8": {
     "model_module": "@jupyter-widgets/controls",
     "model_name": "DescriptionStyleModel",
     "state": {
      "_model_module": "@jupyter-widgets/controls",
      "_model_module_version": "1.5.0",
      "_model_name": "DescriptionStyleModel",
      "_view_count": null,
      "_view_module": "@jupyter-widgets/base",
      "_view_module_version": "1.2.0",
      "_view_name": "StyleView",
      "description_width": ""
     }
    },
    "2c492aa4ed684258aa3d3919c099bdaa": {
     "model_module": "@jupyter-widgets/controls",
     "model_name": "HTMLModel",
     "state": {
      "_dom_classes": [],
      "_model_module": "@jupyter-widgets/controls",
      "_model_module_version": "1.5.0",
      "_model_name": "HTMLModel",
      "_view_count": null,
      "_view_module": "@jupyter-widgets/controls",
      "_view_module_version": "1.5.0",
      "_view_name": "HTMLView",
      "description": "",
      "description_tooltip": null,
      "layout": "IPY_MODEL_3846ed8120c342b5b4bd10015e4d86ac",
      "placeholder": "​",
      "style": "IPY_MODEL_0af3e8412f1e41618334aa3fbc722402",
      "value": " 141M/141M [00:03&lt;00:00, 46.4MB/s]"
     }
    },
    "34d3c22ebc7e4f33b2228b7f99c9ef53": {
     "model_module": "@jupyter-widgets/controls",
     "model_name": "HBoxModel",
     "state": {
      "_dom_classes": [],
      "_model_module": "@jupyter-widgets/controls",
      "_model_module_version": "1.5.0",
      "_model_name": "HBoxModel",
      "_view_count": null,
      "_view_module": "@jupyter-widgets/controls",
      "_view_module_version": "1.5.0",
      "_view_name": "HBoxView",
      "box_style": "",
      "children": [
       "IPY_MODEL_bc556d532733490cb88f0bee210bb46a",
       "IPY_MODEL_fa1167b5723143e4b1ede0c5e0356d1d"
      ],
      "layout": "IPY_MODEL_83a22711e2684fe2ba0fe139ce53931d"
     }
    },
    "3625aee2356340adaf855b3bbf45cd20": {
     "model_module": "@jupyter-widgets/base",
     "model_name": "LayoutModel",
     "state": {
      "_model_module": "@jupyter-widgets/base",
      "_model_module_version": "1.2.0",
      "_model_name": "LayoutModel",
      "_view_count": null,
      "_view_module": "@jupyter-widgets/base",
      "_view_module_version": "1.2.0",
      "_view_name": "LayoutView",
      "align_content": null,
      "align_items": null,
      "align_self": null,
      "border": null,
      "bottom": null,
      "display": null,
      "flex": null,
      "flex_flow": null,
      "grid_area": null,
      "grid_auto_columns": null,
      "grid_auto_flow": null,
      "grid_auto_rows": null,
      "grid_column": null,
      "grid_gap": null,
      "grid_row": null,
      "grid_template_areas": null,
      "grid_template_columns": null,
      "grid_template_rows": null,
      "height": null,
      "justify_content": null,
      "justify_items": null,
      "left": null,
      "margin": null,
      "max_height": null,
      "max_width": null,
      "min_height": null,
      "min_width": null,
      "object_fit": null,
      "object_position": null,
      "order": null,
      "overflow": null,
      "overflow_x": null,
      "overflow_y": null,
      "padding": null,
      "right": null,
      "top": null,
      "visibility": null,
      "width": null
     }
    },
    "36fdde1a69db47a395e6143c3e8d87d0": {
     "model_module": "@jupyter-widgets/controls",
     "model_name": "ProgressStyleModel",
     "state": {
      "_model_module": "@jupyter-widgets/controls",
      "_model_module_version": "1.5.0",
      "_model_name": "ProgressStyleModel",
      "_view_count": null,
      "_view_module": "@jupyter-widgets/base",
      "_view_module_version": "1.2.0",
      "_view_name": "StyleView",
      "bar_color": null,
      "description_width": "initial"
     }
    },
    "3846ed8120c342b5b4bd10015e4d86ac": {
     "model_module": "@jupyter-widgets/base",
     "model_name": "LayoutModel",
     "state": {
      "_model_module": "@jupyter-widgets/base",
      "_model_module_version": "1.2.0",
      "_model_name": "LayoutModel",
      "_view_count": null,
      "_view_module": "@jupyter-widgets/base",
      "_view_module_version": "1.2.0",
      "_view_name": "LayoutView",
      "align_content": null,
      "align_items": null,
      "align_self": null,
      "border": null,
      "bottom": null,
      "display": null,
      "flex": null,
      "flex_flow": null,
      "grid_area": null,
      "grid_auto_columns": null,
      "grid_auto_flow": null,
      "grid_auto_rows": null,
      "grid_column": null,
      "grid_gap": null,
      "grid_row": null,
      "grid_template_areas": null,
      "grid_template_columns": null,
      "grid_template_rows": null,
      "height": null,
      "justify_content": null,
      "justify_items": null,
      "left": null,
      "margin": null,
      "max_height": null,
      "max_width": null,
      "min_height": null,
      "min_width": null,
      "object_fit": null,
      "object_position": null,
      "order": null,
      "overflow": null,
      "overflow_x": null,
      "overflow_y": null,
      "padding": null,
      "right": null,
      "top": null,
      "visibility": null,
      "width": null
     }
    },
    "39398b957f0d4a86aba040c85d39283b": {
     "model_module": "@jupyter-widgets/controls",
     "model_name": "HBoxModel",
     "state": {
      "_dom_classes": [],
      "_model_module": "@jupyter-widgets/controls",
      "_model_module_version": "1.5.0",
      "_model_name": "HBoxModel",
      "_view_count": null,
      "_view_module": "@jupyter-widgets/controls",
      "_view_module_version": "1.5.0",
      "_view_name": "HBoxView",
      "box_style": "",
      "children": [
       "IPY_MODEL_2598b4a67fd44c1c96166a89182c28d8",
       "IPY_MODEL_10d6ec168a7d4d979ee551d64aa4e2c2"
      ],
      "layout": "IPY_MODEL_9ddce2e1cb1648fbaa533a4022afc541"
     }
    },
    "43c82375e670480db2981f809dd020cc": {
     "model_module": "@jupyter-widgets/controls",
     "model_name": "DescriptionStyleModel",
     "state": {
      "_model_module": "@jupyter-widgets/controls",
      "_model_module_version": "1.5.0",
      "_model_name": "DescriptionStyleModel",
      "_view_count": null,
      "_view_module": "@jupyter-widgets/base",
      "_view_module_version": "1.2.0",
      "_view_name": "StyleView",
      "description_width": ""
     }
    },
    "45a602fe84184a3d87a87935be12df6e": {
     "model_module": "@jupyter-widgets/base",
     "model_name": "LayoutModel",
     "state": {
      "_model_module": "@jupyter-widgets/base",
      "_model_module_version": "1.2.0",
      "_model_name": "LayoutModel",
      "_view_count": null,
      "_view_module": "@jupyter-widgets/base",
      "_view_module_version": "1.2.0",
      "_view_name": "LayoutView",
      "align_content": null,
      "align_items": null,
      "align_self": null,
      "border": null,
      "bottom": null,
      "display": null,
      "flex": null,
      "flex_flow": null,
      "grid_area": null,
      "grid_auto_columns": null,
      "grid_auto_flow": null,
      "grid_auto_rows": null,
      "grid_column": null,
      "grid_gap": null,
      "grid_row": null,
      "grid_template_areas": null,
      "grid_template_columns": null,
      "grid_template_rows": null,
      "height": null,
      "justify_content": null,
      "justify_items": null,
      "left": null,
      "margin": null,
      "max_height": null,
      "max_width": null,
      "min_height": null,
      "min_width": null,
      "object_fit": null,
      "object_position": null,
      "order": null,
      "overflow": null,
      "overflow_x": null,
      "overflow_y": null,
      "padding": null,
      "right": null,
      "top": null,
      "visibility": null,
      "width": null
     }
    },
    "4a2378896848469395966faa0f9ea892": {
     "model_module": "@jupyter-widgets/base",
     "model_name": "LayoutModel",
     "state": {
      "_model_module": "@jupyter-widgets/base",
      "_model_module_version": "1.2.0",
      "_model_name": "LayoutModel",
      "_view_count": null,
      "_view_module": "@jupyter-widgets/base",
      "_view_module_version": "1.2.0",
      "_view_name": "LayoutView",
      "align_content": null,
      "align_items": null,
      "align_self": null,
      "border": null,
      "bottom": null,
      "display": null,
      "flex": null,
      "flex_flow": null,
      "grid_area": null,
      "grid_auto_columns": null,
      "grid_auto_flow": null,
      "grid_auto_rows": null,
      "grid_column": null,
      "grid_gap": null,
      "grid_row": null,
      "grid_template_areas": null,
      "grid_template_columns": null,
      "grid_template_rows": null,
      "height": null,
      "justify_content": null,
      "justify_items": null,
      "left": null,
      "margin": null,
      "max_height": null,
      "max_width": null,
      "min_height": null,
      "min_width": null,
      "object_fit": null,
      "object_position": null,
      "order": null,
      "overflow": null,
      "overflow_x": null,
      "overflow_y": null,
      "padding": null,
      "right": null,
      "top": null,
      "visibility": null,
      "width": null
     }
    },
    "50e680957d5947b9aa2fac6e4eeabb28": {
     "model_module": "@jupyter-widgets/base",
     "model_name": "LayoutModel",
     "state": {
      "_model_module": "@jupyter-widgets/base",
      "_model_module_version": "1.2.0",
      "_model_name": "LayoutModel",
      "_view_count": null,
      "_view_module": "@jupyter-widgets/base",
      "_view_module_version": "1.2.0",
      "_view_name": "LayoutView",
      "align_content": null,
      "align_items": null,
      "align_self": null,
      "border": null,
      "bottom": null,
      "display": null,
      "flex": null,
      "flex_flow": null,
      "grid_area": null,
      "grid_auto_columns": null,
      "grid_auto_flow": null,
      "grid_auto_rows": null,
      "grid_column": null,
      "grid_gap": null,
      "grid_row": null,
      "grid_template_areas": null,
      "grid_template_columns": null,
      "grid_template_rows": null,
      "height": null,
      "justify_content": null,
      "justify_items": null,
      "left": null,
      "margin": null,
      "max_height": null,
      "max_width": null,
      "min_height": null,
      "min_width": null,
      "object_fit": null,
      "object_position": null,
      "order": null,
      "overflow": null,
      "overflow_x": null,
      "overflow_y": null,
      "padding": null,
      "right": null,
      "top": null,
      "visibility": null,
      "width": null
     }
    },
    "5889ea424e1c4aacbf774c53a4a3638a": {
     "model_module": "@jupyter-widgets/controls",
     "model_name": "HTMLModel",
     "state": {
      "_dom_classes": [],
      "_model_module": "@jupyter-widgets/controls",
      "_model_module_version": "1.5.0",
      "_model_name": "HTMLModel",
      "_view_count": null,
      "_view_module": "@jupyter-widgets/controls",
      "_view_module_version": "1.5.0",
      "_view_name": "HTMLView",
      "description": "",
      "description_tooltip": null,
      "layout": "IPY_MODEL_23c9db8b5f0d4c1a9dc4a2042287169c",
      "placeholder": "​",
      "style": "IPY_MODEL_2ad2b61f33a147f88e3278c0f928b9d8",
      "value": " 8000/8000 [07:49&lt;00:00, 17.06it/s]"
     }
    },
    "5f2dbfe544fd4550b44fba977b08365d": {
     "model_module": "@jupyter-widgets/base",
     "model_name": "LayoutModel",
     "state": {
      "_model_module": "@jupyter-widgets/base",
      "_model_module_version": "1.2.0",
      "_model_name": "LayoutModel",
      "_view_count": null,
      "_view_module": "@jupyter-widgets/base",
      "_view_module_version": "1.2.0",
      "_view_name": "LayoutView",
      "align_content": null,
      "align_items": null,
      "align_self": null,
      "border": null,
      "bottom": null,
      "display": null,
      "flex": null,
      "flex_flow": null,
      "grid_area": null,
      "grid_auto_columns": null,
      "grid_auto_flow": null,
      "grid_auto_rows": null,
      "grid_column": null,
      "grid_gap": null,
      "grid_row": null,
      "grid_template_areas": null,
      "grid_template_columns": null,
      "grid_template_rows": null,
      "height": null,
      "justify_content": null,
      "justify_items": null,
      "left": null,
      "margin": null,
      "max_height": null,
      "max_width": null,
      "min_height": null,
      "min_width": null,
      "object_fit": null,
      "object_position": null,
      "order": null,
      "overflow": null,
      "overflow_x": null,
      "overflow_y": null,
      "padding": null,
      "right": null,
      "top": null,
      "visibility": null,
      "width": null
     }
    },
    "6623517d60e54ee99b84abd945baea26": {
     "model_module": "@jupyter-widgets/base",
     "model_name": "LayoutModel",
     "state": {
      "_model_module": "@jupyter-widgets/base",
      "_model_module_version": "1.2.0",
      "_model_name": "LayoutModel",
      "_view_count": null,
      "_view_module": "@jupyter-widgets/base",
      "_view_module_version": "1.2.0",
      "_view_name": "LayoutView",
      "align_content": null,
      "align_items": null,
      "align_self": null,
      "border": null,
      "bottom": null,
      "display": null,
      "flex": null,
      "flex_flow": null,
      "grid_area": null,
      "grid_auto_columns": null,
      "grid_auto_flow": null,
      "grid_auto_rows": null,
      "grid_column": null,
      "grid_gap": null,
      "grid_row": null,
      "grid_template_areas": null,
      "grid_template_columns": null,
      "grid_template_rows": null,
      "height": null,
      "justify_content": null,
      "justify_items": null,
      "left": null,
      "margin": null,
      "max_height": null,
      "max_width": null,
      "min_height": null,
      "min_width": null,
      "object_fit": null,
      "object_position": null,
      "order": null,
      "overflow": null,
      "overflow_x": null,
      "overflow_y": null,
      "padding": null,
      "right": null,
      "top": null,
      "visibility": null,
      "width": null
     }
    },
    "7d0a66b3ef994d7db0b62c3cc17ced11": {
     "model_module": "@jupyter-widgets/controls",
     "model_name": "DescriptionStyleModel",
     "state": {
      "_model_module": "@jupyter-widgets/controls",
      "_model_module_version": "1.5.0",
      "_model_name": "DescriptionStyleModel",
      "_view_count": null,
      "_view_module": "@jupyter-widgets/base",
      "_view_module_version": "1.2.0",
      "_view_name": "StyleView",
      "description_width": ""
     }
    },
    "83a22711e2684fe2ba0fe139ce53931d": {
     "model_module": "@jupyter-widgets/base",
     "model_name": "LayoutModel",
     "state": {
      "_model_module": "@jupyter-widgets/base",
      "_model_module_version": "1.2.0",
      "_model_name": "LayoutModel",
      "_view_count": null,
      "_view_module": "@jupyter-widgets/base",
      "_view_module_version": "1.2.0",
      "_view_name": "LayoutView",
      "align_content": null,
      "align_items": null,
      "align_self": null,
      "border": null,
      "bottom": null,
      "display": null,
      "flex": null,
      "flex_flow": null,
      "grid_area": null,
      "grid_auto_columns": null,
      "grid_auto_flow": null,
      "grid_auto_rows": null,
      "grid_column": null,
      "grid_gap": null,
      "grid_row": null,
      "grid_template_areas": null,
      "grid_template_columns": null,
      "grid_template_rows": null,
      "height": null,
      "justify_content": null,
      "justify_items": null,
      "left": null,
      "margin": null,
      "max_height": null,
      "max_width": null,
      "min_height": null,
      "min_width": null,
      "object_fit": null,
      "object_position": null,
      "order": null,
      "overflow": null,
      "overflow_x": null,
      "overflow_y": null,
      "padding": null,
      "right": null,
      "top": null,
      "visibility": null,
      "width": null
     }
    },
    "89943da2aab94981b4a535a8672db875": {
     "model_module": "@jupyter-widgets/base",
     "model_name": "LayoutModel",
     "state": {
      "_model_module": "@jupyter-widgets/base",
      "_model_module_version": "1.2.0",
      "_model_name": "LayoutModel",
      "_view_count": null,
      "_view_module": "@jupyter-widgets/base",
      "_view_module_version": "1.2.0",
      "_view_name": "LayoutView",
      "align_content": null,
      "align_items": null,
      "align_self": null,
      "border": null,
      "bottom": null,
      "display": null,
      "flex": null,
      "flex_flow": null,
      "grid_area": null,
      "grid_auto_columns": null,
      "grid_auto_flow": null,
      "grid_auto_rows": null,
      "grid_column": null,
      "grid_gap": null,
      "grid_row": null,
      "grid_template_areas": null,
      "grid_template_columns": null,
      "grid_template_rows": null,
      "height": null,
      "justify_content": null,
      "justify_items": null,
      "left": null,
      "margin": null,
      "max_height": null,
      "max_width": null,
      "min_height": null,
      "min_width": null,
      "object_fit": null,
      "object_position": null,
      "order": null,
      "overflow": null,
      "overflow_x": null,
      "overflow_y": null,
      "padding": null,
      "right": null,
      "top": null,
      "visibility": null,
      "width": null
     }
    },
    "949bbd6293d54d02af79ab3346a354c1": {
     "model_module": "@jupyter-widgets/controls",
     "model_name": "DescriptionStyleModel",
     "state": {
      "_model_module": "@jupyter-widgets/controls",
      "_model_module_version": "1.5.0",
      "_model_name": "DescriptionStyleModel",
      "_view_count": null,
      "_view_module": "@jupyter-widgets/base",
      "_view_module_version": "1.2.0",
      "_view_name": "StyleView",
      "description_width": ""
     }
    },
    "95dd15e11d364e25981f05f8b5715f51": {
     "model_module": "@jupyter-widgets/controls",
     "model_name": "ProgressStyleModel",
     "state": {
      "_model_module": "@jupyter-widgets/controls",
      "_model_module_version": "1.5.0",
      "_model_name": "ProgressStyleModel",
      "_view_count": null,
      "_view_module": "@jupyter-widgets/base",
      "_view_module_version": "1.2.0",
      "_view_name": "StyleView",
      "bar_color": null,
      "description_width": "initial"
     }
    },
    "9ddce2e1cb1648fbaa533a4022afc541": {
     "model_module": "@jupyter-widgets/base",
     "model_name": "LayoutModel",
     "state": {
      "_model_module": "@jupyter-widgets/base",
      "_model_module_version": "1.2.0",
      "_model_name": "LayoutModel",
      "_view_count": null,
      "_view_module": "@jupyter-widgets/base",
      "_view_module_version": "1.2.0",
      "_view_name": "LayoutView",
      "align_content": null,
      "align_items": null,
      "align_self": null,
      "border": null,
      "bottom": null,
      "display": null,
      "flex": null,
      "flex_flow": null,
      "grid_area": null,
      "grid_auto_columns": null,
      "grid_auto_flow": null,
      "grid_auto_rows": null,
      "grid_column": null,
      "grid_gap": null,
      "grid_row": null,
      "grid_template_areas": null,
      "grid_template_columns": null,
      "grid_template_rows": null,
      "height": null,
      "justify_content": null,
      "justify_items": null,
      "left": null,
      "margin": null,
      "max_height": null,
      "max_width": null,
      "min_height": null,
      "min_width": null,
      "object_fit": null,
      "object_position": null,
      "order": null,
      "overflow": null,
      "overflow_x": null,
      "overflow_y": null,
      "padding": null,
      "right": null,
      "top": null,
      "visibility": null,
      "width": null
     }
    },
    "a027f63b438c44c5a4abdbac032d6635": {
     "model_module": "@jupyter-widgets/controls",
     "model_name": "FloatProgressModel",
     "state": {
      "_dom_classes": [],
      "_model_module": "@jupyter-widgets/controls",
      "_model_module_version": "1.5.0",
      "_model_name": "FloatProgressModel",
      "_view_count": null,
      "_view_module": "@jupyter-widgets/controls",
      "_view_module_version": "1.5.0",
      "_view_name": "ProgressView",
      "bar_style": "success",
      "description": "Downloading: 100%",
      "description_tooltip": null,
      "layout": "IPY_MODEL_4a2378896848469395966faa0f9ea892",
      "max": 141479251,
      "min": 0,
      "orientation": "horizontal",
      "style": "IPY_MODEL_14bf95dea3644450a87de666204a23b8",
      "value": 141479251
     }
    },
    "a064d913af7c4d82ab4055f0b21fce19": {
     "model_module": "@jupyter-widgets/controls",
     "model_name": "HBoxModel",
     "state": {
      "_dom_classes": [],
      "_model_module": "@jupyter-widgets/controls",
      "_model_module_version": "1.5.0",
      "_model_name": "HBoxModel",
      "_view_count": null,
      "_view_module": "@jupyter-widgets/controls",
      "_view_module_version": "1.5.0",
      "_view_name": "HBoxView",
      "box_style": "",
      "children": [
       "IPY_MODEL_a027f63b438c44c5a4abdbac032d6635",
       "IPY_MODEL_2c492aa4ed684258aa3d3919c099bdaa"
      ],
      "layout": "IPY_MODEL_6623517d60e54ee99b84abd945baea26"
     }
    },
    "a8df59913eca4deb9570977eff4a040a": {
     "model_module": "@jupyter-widgets/base",
     "model_name": "LayoutModel",
     "state": {
      "_model_module": "@jupyter-widgets/base",
      "_model_module_version": "1.2.0",
      "_model_name": "LayoutModel",
      "_view_count": null,
      "_view_module": "@jupyter-widgets/base",
      "_view_module_version": "1.2.0",
      "_view_name": "LayoutView",
      "align_content": null,
      "align_items": null,
      "align_self": null,
      "border": null,
      "bottom": null,
      "display": null,
      "flex": null,
      "flex_flow": null,
      "grid_area": null,
      "grid_auto_columns": null,
      "grid_auto_flow": null,
      "grid_auto_rows": null,
      "grid_column": null,
      "grid_gap": null,
      "grid_row": null,
      "grid_template_areas": null,
      "grid_template_columns": null,
      "grid_template_rows": null,
      "height": null,
      "justify_content": null,
      "justify_items": null,
      "left": null,
      "margin": null,
      "max_height": null,
      "max_width": null,
      "min_height": null,
      "min_width": null,
      "object_fit": null,
      "object_position": null,
      "order": null,
      "overflow": null,
      "overflow_x": null,
      "overflow_y": null,
      "padding": null,
      "right": null,
      "top": null,
      "visibility": null,
      "width": null
     }
    },
    "af1badc793e64eaf9b8de62d0659af06": {
     "model_module": "@jupyter-widgets/controls",
     "model_name": "HBoxModel",
     "state": {
      "_dom_classes": [],
      "_model_module": "@jupyter-widgets/controls",
      "_model_module_version": "1.5.0",
      "_model_name": "HBoxModel",
      "_view_count": null,
      "_view_module": "@jupyter-widgets/controls",
      "_view_module_version": "1.5.0",
      "_view_name": "HBoxView",
      "box_style": "",
      "children": [
       "IPY_MODEL_ffce5c2d6cf64034ad002d3790d7d6fc",
       "IPY_MODEL_b90f46b5b2a341738f18d459b9508bec"
      ],
      "layout": "IPY_MODEL_e0e4b6eb885b484a873d97eaa3aa9906"
     }
    },
    "b168792c6a514946ba7278546d40ef9f": {
     "model_module": "@jupyter-widgets/base",
     "model_name": "LayoutModel",
     "state": {
      "_model_module": "@jupyter-widgets/base",
      "_model_module_version": "1.2.0",
      "_model_name": "LayoutModel",
      "_view_count": null,
      "_view_module": "@jupyter-widgets/base",
      "_view_module_version": "1.2.0",
      "_view_name": "LayoutView",
      "align_content": null,
      "align_items": null,
      "align_self": null,
      "border": null,
      "bottom": null,
      "display": null,
      "flex": null,
      "flex_flow": null,
      "grid_area": null,
      "grid_auto_columns": null,
      "grid_auto_flow": null,
      "grid_auto_rows": null,
      "grid_column": null,
      "grid_gap": null,
      "grid_row": null,
      "grid_template_areas": null,
      "grid_template_columns": null,
      "grid_template_rows": null,
      "height": null,
      "justify_content": null,
      "justify_items": null,
      "left": null,
      "margin": null,
      "max_height": null,
      "max_width": null,
      "min_height": null,
      "min_width": null,
      "object_fit": null,
      "object_position": null,
      "order": null,
      "overflow": null,
      "overflow_x": null,
      "overflow_y": null,
      "padding": null,
      "right": null,
      "top": null,
      "visibility": null,
      "width": null
     }
    },
    "b90f46b5b2a341738f18d459b9508bec": {
     "model_module": "@jupyter-widgets/controls",
     "model_name": "HTMLModel",
     "state": {
      "_dom_classes": [],
      "_model_module": "@jupyter-widgets/controls",
      "_model_module_version": "1.5.0",
      "_model_name": "HTMLModel",
      "_view_count": null,
      "_view_module": "@jupyter-widgets/controls",
      "_view_module_version": "1.5.0",
      "_view_name": "HTMLView",
      "description": "",
      "description_tooltip": null,
      "layout": "IPY_MODEL_d1f95816b12c4ac281db788d4ff3b08c",
      "placeholder": "​",
      "style": "IPY_MODEL_43c82375e670480db2981f809dd020cc",
      "value": " 8000/8000 [08:26&lt;00:00, 15.80it/s]"
     }
    },
    "bc556d532733490cb88f0bee210bb46a": {
     "model_module": "@jupyter-widgets/controls",
     "model_name": "FloatProgressModel",
     "state": {
      "_dom_classes": [],
      "_model_module": "@jupyter-widgets/controls",
      "_model_module_version": "1.5.0",
      "_model_name": "FloatProgressModel",
      "_view_count": null,
      "_view_module": "@jupyter-widgets/controls",
      "_view_module_version": "1.5.0",
      "_view_name": "ProgressView",
      "bar_style": "success",
      "description": "Downloading: 100%",
      "description_tooltip": null,
      "layout": "IPY_MODEL_5f2dbfe544fd4550b44fba977b08365d",
      "max": 231508,
      "min": 0,
      "orientation": "horizontal",
      "style": "IPY_MODEL_36fdde1a69db47a395e6143c3e8d87d0",
      "value": 231508
     }
    },
    "d1f95816b12c4ac281db788d4ff3b08c": {
     "model_module": "@jupyter-widgets/base",
     "model_name": "LayoutModel",
     "state": {
      "_model_module": "@jupyter-widgets/base",
      "_model_module_version": "1.2.0",
      "_model_name": "LayoutModel",
      "_view_count": null,
      "_view_module": "@jupyter-widgets/base",
      "_view_module_version": "1.2.0",
      "_view_name": "LayoutView",
      "align_content": null,
      "align_items": null,
      "align_self": null,
      "border": null,
      "bottom": null,
      "display": null,
      "flex": null,
      "flex_flow": null,
      "grid_area": null,
      "grid_auto_columns": null,
      "grid_auto_flow": null,
      "grid_auto_rows": null,
      "grid_column": null,
      "grid_gap": null,
      "grid_row": null,
      "grid_template_areas": null,
      "grid_template_columns": null,
      "grid_template_rows": null,
      "height": null,
      "justify_content": null,
      "justify_items": null,
      "left": null,
      "margin": null,
      "max_height": null,
      "max_width": null,
      "min_height": null,
      "min_width": null,
      "object_fit": null,
      "object_position": null,
      "order": null,
      "overflow": null,
      "overflow_x": null,
      "overflow_y": null,
      "padding": null,
      "right": null,
      "top": null,
      "visibility": null,
      "width": null
     }
    },
    "d2129d16f57740bcb44adba2a1c1e0cb": {
     "model_module": "@jupyter-widgets/controls",
     "model_name": "HBoxModel",
     "state": {
      "_dom_classes": [],
      "_model_module": "@jupyter-widgets/controls",
      "_model_module_version": "1.5.0",
      "_model_name": "HBoxModel",
      "_view_count": null,
      "_view_module": "@jupyter-widgets/controls",
      "_view_module_version": "1.5.0",
      "_view_name": "HBoxView",
      "box_style": "",
      "children": [
       "IPY_MODEL_0f5e94e97c634e6b99bfb221da59557c",
       "IPY_MODEL_5889ea424e1c4aacbf774c53a4a3638a"
      ],
      "layout": "IPY_MODEL_89943da2aab94981b4a535a8672db875"
     }
    },
    "d8b85817348e4b01bc5b544d269b2a7c": {
     "model_module": "@jupyter-widgets/controls",
     "model_name": "ProgressStyleModel",
     "state": {
      "_model_module": "@jupyter-widgets/controls",
      "_model_module_version": "1.5.0",
      "_model_name": "ProgressStyleModel",
      "_view_count": null,
      "_view_module": "@jupyter-widgets/base",
      "_view_module_version": "1.2.0",
      "_view_name": "StyleView",
      "bar_color": null,
      "description_width": "initial"
     }
    },
    "e0e4b6eb885b484a873d97eaa3aa9906": {
     "model_module": "@jupyter-widgets/base",
     "model_name": "LayoutModel",
     "state": {
      "_model_module": "@jupyter-widgets/base",
      "_model_module_version": "1.2.0",
      "_model_name": "LayoutModel",
      "_view_count": null,
      "_view_module": "@jupyter-widgets/base",
      "_view_module_version": "1.2.0",
      "_view_name": "LayoutView",
      "align_content": null,
      "align_items": null,
      "align_self": null,
      "border": null,
      "bottom": null,
      "display": null,
      "flex": null,
      "flex_flow": null,
      "grid_area": null,
      "grid_auto_columns": null,
      "grid_auto_flow": null,
      "grid_auto_rows": null,
      "grid_column": null,
      "grid_gap": null,
      "grid_row": null,
      "grid_template_areas": null,
      "grid_template_columns": null,
      "grid_template_rows": null,
      "height": null,
      "justify_content": null,
      "justify_items": null,
      "left": null,
      "margin": null,
      "max_height": null,
      "max_width": null,
      "min_height": null,
      "min_width": null,
      "object_fit": null,
      "object_position": null,
      "order": null,
      "overflow": null,
      "overflow_x": null,
      "overflow_y": null,
      "padding": null,
      "right": null,
      "top": null,
      "visibility": null,
      "width": null
     }
    },
    "e21e89f9323e476ca06f1c76bf91d640": {
     "model_module": "@jupyter-widgets/controls",
     "model_name": "ProgressStyleModel",
     "state": {
      "_model_module": "@jupyter-widgets/controls",
      "_model_module_version": "1.5.0",
      "_model_name": "ProgressStyleModel",
      "_view_count": null,
      "_view_module": "@jupyter-widgets/base",
      "_view_module_version": "1.2.0",
      "_view_name": "StyleView",
      "bar_color": null,
      "description_width": "initial"
     }
    },
    "fa1167b5723143e4b1ede0c5e0356d1d": {
     "model_module": "@jupyter-widgets/controls",
     "model_name": "HTMLModel",
     "state": {
      "_dom_classes": [],
      "_model_module": "@jupyter-widgets/controls",
      "_model_module_version": "1.5.0",
      "_model_name": "HTMLModel",
      "_view_count": null,
      "_view_module": "@jupyter-widgets/controls",
      "_view_module_version": "1.5.0",
      "_view_name": "HTMLView",
      "description": "",
      "description_tooltip": null,
      "layout": "IPY_MODEL_3625aee2356340adaf855b3bbf45cd20",
      "placeholder": "​",
      "style": "IPY_MODEL_7d0a66b3ef994d7db0b62c3cc17ced11",
      "value": " 232k/232k [00:00&lt;00:00, 488kB/s]"
     }
    },
    "ffce5c2d6cf64034ad002d3790d7d6fc": {
     "model_module": "@jupyter-widgets/controls",
     "model_name": "FloatProgressModel",
     "state": {
      "_dom_classes": [],
      "_model_module": "@jupyter-widgets/controls",
      "_model_module_version": "1.5.0",
      "_model_name": "FloatProgressModel",
      "_view_count": null,
      "_view_module": "@jupyter-widgets/controls",
      "_view_module_version": "1.5.0",
      "_view_name": "ProgressView",
      "bar_style": "success",
      "description": "100%",
      "description_tooltip": null,
      "layout": "IPY_MODEL_45a602fe84184a3d87a87935be12df6e",
      "max": 8000,
      "min": 0,
      "orientation": "horizontal",
      "style": "IPY_MODEL_95dd15e11d364e25981f05f8b5715f51",
      "value": 8000
     }
    }
   }
  }
 },
 "nbformat": 4,
 "nbformat_minor": 1
}
