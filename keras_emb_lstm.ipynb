{
 "cells": [
  {
   "cell_type": "markdown",
   "metadata": {
    "colab_type": "text",
    "id": "u1nbvxwZrnpT"
   },
   "source": [
    "# **relation italicized text extraction with LSTM model and word2vec embeding**"
   ]
  },
  {
   "cell_type": "code",
   "execution_count": 1,
   "metadata": {
    "colab": {
     "base_uri": "https://localhost:8080/",
     "height": 34
    },
    "colab_type": "code",
    "executionInfo": {
     "elapsed": 3221,
     "status": "ok",
     "timestamp": 1589887341564,
     "user": {
      "displayName": "Aidin Zehtab",
      "photoUrl": "https://lh3.googleusercontent.com/a-/AOh14Gh1AfLrAaNilXGI3VZU2KwKhp3IIw0ikwf3L4LH3g=s64",
      "userId": "16441557016137319648"
     },
     "user_tz": -270
    },
    "id": "EjtyULpbqz6f",
    "outputId": "3495f20b-b51a-449e-d5fc-a361d1d4ee2d",
    "scrolled": true
   },
   "outputs": [
    {
     "name": "stderr",
     "output_type": "stream",
     "text": [
      "Using TensorFlow backend.\n"
     ]
    }
   ],
   "source": [
    "import pandas as pd\n",
    "from tensorflow.keras.preprocessing.text import Tokenizer\n",
    "from tensorflow.keras.preprocessing.sequence import pad_sequences\n",
    "from keras.utils import to_categorical\n",
    "from sklearn.model_selection import train_test_split\n",
    "from tensorflow.keras import Sequential\n",
    "from tensorflow.keras.layers import Bidirectional,LSTM,Dense,Embedding\n",
    "from sklearn.metrics import confusion_matrix,classification_report\n",
    "from sklearn.utils.multiclass import unique_labels\n",
    "import numpy as np\n",
    "import matplotlib.pyplot as plt"
   ]
  },
  {
   "cell_type": "markdown",
   "metadata": {
    "colab_type": "text",
    "id": "R6-gv-Jsv5T0"
   },
   "source": [
    "# **plot_confusion_matrix definition**"
   ]
  },
  {
   "cell_type": "code",
   "execution_count": 0,
   "metadata": {
    "colab": {},
    "colab_type": "code",
    "id": "IXwoR1euqz6w"
   },
   "outputs": [],
   "source": [
    "def plot_confusion_matrix(y_true, y_pred, classes,\n",
    "                          normalize=False,\n",
    "                          title=None,\n",
    "                          cmap=plt.cm.Blues):\n",
    "    \"\"\"\n",
    "    This function prints and plots the confusion matrix.\n",
    "    Normalization can be applied by setting `normalize=True`.\n",
    "    \"\"\"\n",
    "    if not title:\n",
    "        if normalize:\n",
    "            title = 'Normalized confusion matrix'\n",
    "        else:\n",
    "            title = 'Confusion matrix, without normalization'\n",
    "\n",
    "    # Compute confusion matrix\n",
    "    cm = confusion_matrix(y_true, y_pred)\n",
    "    # Only use the labels that appear in the data\n",
    "    classes = classes[unique_labels(y_true, y_pred)]\n",
    "    if normalize:\n",
    "        cm = cm.astype('float') / cm.sum(axis=1)[:, np.newaxis]\n",
    "        print(\"Normalized confusion matrix\")\n",
    "    else:\n",
    "        print('Confusion matrix, without normalization')\n",
    "\n",
    "\n",
    "    fig, ax = plt.subplots()\n",
    "    im = ax.imshow(cm, interpolation='nearest', cmap=cmap)\n",
    "    ax.figure.colorbar(im, ax=ax)\n",
    "    # We want to show all ticks...\n",
    "    ax.set(xticks=np.arange(cm.shape[1]),\n",
    "           yticks=np.arange(cm.shape[0]),\n",
    "           # ... and label them with the respective list entries\n",
    "           xticklabels=classes, yticklabels=classes,\n",
    "           title=title,\n",
    "           ylabel='True label',\n",
    "           xlabel='Predicted label')\n",
    "\n",
    "    # Rotate the tick labels and set their alignment.\n",
    "    plt.setp(ax.get_xticklabels(), rotation=45, ha=\"right\",\n",
    "             rotation_mode=\"anchor\")\n",
    "\n",
    "    # Loop over data dimensions and create text annotations.\n",
    "    fmt = '.2f' if normalize else 'd'\n",
    "    thresh = cm.max() / 2.\n",
    "    for i in range(cm.shape[0]):\n",
    "        for j in range(cm.shape[1]):\n",
    "            ax.text(j, i, format(cm[i, j], fmt),\n",
    "                    ha=\"center\", va=\"center\",\n",
    "                    color=\"white\" if cm[i, j] > thresh else \"black\")\n",
    "    fig.tight_layout()\n",
    "    return ax"
   ]
  },
  {
   "cell_type": "markdown",
   "metadata": {
    "colab_type": "text",
    "id": "uK5FnU5vwD4a"
   },
   "source": [
    "# **read and split dataset**"
   ]
  },
  {
   "cell_type": "code",
   "execution_count": 0,
   "metadata": {
    "colab": {},
    "colab_type": "code",
    "id": "4IurJsMPqz68"
   },
   "outputs": [],
   "source": [
    "df = pd.read_excel('SemEval2010_task8.xls')"
   ]
  },
  {
   "cell_type": "code",
   "execution_count": 8,
   "metadata": {
    "colab": {
     "base_uri": "https://localhost:8080/",
     "height": 34
    },
    "colab_type": "code",
    "executionInfo": {
     "elapsed": 1358,
     "status": "ok",
     "timestamp": 1589887488867,
     "user": {
      "displayName": "Aidin Zehtab",
      "photoUrl": "https://lh3.googleusercontent.com/a-/AOh14Gh1AfLrAaNilXGI3VZU2KwKhp3IIw0ikwf3L4LH3g=s64",
      "userId": "16441557016137319648"
     },
     "user_tz": -270
    },
    "id": "1bU2Ez2Aqz7F",
    "outputId": "e6a27bf1-c56e-42d5-9d45-5fce11d9ea1c"
   },
   "outputs": [
    {
     "name": "stdout",
     "output_type": "stream",
     "text": [
      "Found 25675 unique tokens.\n"
     ]
    }
   ],
   "source": [
    "n_most_common_words = 20000 # vocabulary size\n",
    "max_len = 100\n",
    "# Initialization\n",
    "tokenizer = Tokenizer(num_words=n_most_common_words, filters='!\"#$%&()*+,-./:;=?@[]^_`{|}~', lower=True)\n",
    "# Fit and transformation\n",
    "tokenizer.fit_on_texts(df['sentences'].values)\n",
    "sequences = tokenizer.texts_to_sequences(df['sentences'].values)\n",
    "word_index = tokenizer.word_index\n",
    "print('Found %s unique tokens.' % len(word_index))\n",
    "# Padding\n",
    "X = pad_sequences(sequences, maxlen=max_len)"
   ]
  },
  {
   "cell_type": "code",
   "execution_count": 0,
   "metadata": {
    "colab": {},
    "colab_type": "code",
    "id": "5yPkqdzOqz7N"
   },
   "outputs": [],
   "source": [
    "codeOfLabals = []\n",
    "for i in df['labels']:\n",
    "    codeOfLabals.append(list(df.labels.unique()).index(i))"
   ]
  },
  {
   "cell_type": "code",
   "execution_count": 10,
   "metadata": {
    "colab": {
     "base_uri": "https://localhost:8080/",
     "height": 86
    },
    "colab_type": "code",
    "executionInfo": {
     "elapsed": 874,
     "status": "ok",
     "timestamp": 1589887501565,
     "user": {
      "displayName": "Aidin Zehtab",
      "photoUrl": "https://lh3.googleusercontent.com/a-/AOh14Gh1AfLrAaNilXGI3VZU2KwKhp3IIw0ikwf3L4LH3g=s64",
      "userId": "16441557016137319648"
     },
     "user_tz": -270
    },
    "id": "Iu6AqNKuqz7U",
    "outputId": "274ac5e5-dba3-43a7-86a7-63a64951d93e",
    "scrolled": true
   },
   "outputs": [
    {
     "data": {
      "text/plain": [
       "array(['Component-Whole', 'Other', 'Instrument-Agency',\n",
       "       'Member-Collection', 'Cause-Effect', 'Entity-Destination',\n",
       "       'Content-Container', 'Message-Topic', 'Product-Producer',\n",
       "       'Entity-Origin'], dtype=object)"
      ]
     },
     "execution_count": 10,
     "metadata": {
      "tags": []
     },
     "output_type": "execute_result"
    }
   ],
   "source": [
    "df.labels.unique()"
   ]
  },
  {
   "cell_type": "code",
   "execution_count": 0,
   "metadata": {
    "colab": {},
    "colab_type": "code",
    "id": "3JtY9l6oqz7c",
    "scrolled": true
   },
   "outputs": [],
   "source": [
    "labels = to_categorical(codeOfLabals, num_classes=len(df.labels.unique())) # from keras.utils.np_utils"
   ]
  },
  {
   "cell_type": "code",
   "execution_count": 0,
   "metadata": {
    "colab": {},
    "colab_type": "code",
    "id": "BDdF061wqz7i"
   },
   "outputs": [],
   "source": [
    "X_train, X_test, y_train, y_test = train_test_split(X , labels, test_size=0.20, random_state=42)"
   ]
  },
  {
   "cell_type": "markdown",
   "metadata": {
    "colab_type": "text",
    "id": "dGqpz_kuzvba"
   },
   "source": [
    "# **create model**"
   ]
  },
  {
   "cell_type": "code",
   "execution_count": 0,
   "metadata": {
    "colab": {},
    "colab_type": "code",
    "id": "RJHTOe_7qz7o"
   },
   "outputs": [],
   "source": [
    "embedding_size = 300\n",
    "model = Sequential()\n",
    "model.add(Embedding(n_most_common_words, embedding_size, input_length=X.shape[1]))\n",
    "model.add(Bidirectional(LSTM(128, dropout=0.3, recurrent_dropout=0.3)))\n",
    "model.add(Dense(labels.shape[1], activation='softmax'))"
   ]
  },
  {
   "cell_type": "code",
   "execution_count": 0,
   "metadata": {
    "colab": {},
    "colab_type": "code",
    "id": "duyHEIg6qz7u"
   },
   "outputs": [],
   "source": [
    "model.compile(optimizer='RMSProp', loss='categorical_crossentropy', metrics=['acc'])"
   ]
  },
  {
   "cell_type": "code",
   "execution_count": 15,
   "metadata": {
    "colab": {
     "base_uri": "https://localhost:8080/",
     "height": 260
    },
    "colab_type": "code",
    "executionInfo": {
     "elapsed": 871,
     "status": "ok",
     "timestamp": 1589887512235,
     "user": {
      "displayName": "Aidin Zehtab",
      "photoUrl": "https://lh3.googleusercontent.com/a-/AOh14Gh1AfLrAaNilXGI3VZU2KwKhp3IIw0ikwf3L4LH3g=s64",
      "userId": "16441557016137319648"
     },
     "user_tz": -270
    },
    "id": "1W4tTKQdqz71",
    "outputId": "d6d13619-8694-44fc-9f83-a6a091c73e2c"
   },
   "outputs": [
    {
     "name": "stdout",
     "output_type": "stream",
     "text": [
      "Model: \"sequential\"\n",
      "_________________________________________________________________\n",
      "Layer (type)                 Output Shape              Param #   \n",
      "=================================================================\n",
      "embedding (Embedding)        (None, 100, 300)          6000000   \n",
      "_________________________________________________________________\n",
      "bidirectional (Bidirectional (None, 256)               439296    \n",
      "_________________________________________________________________\n",
      "dense (Dense)                (None, 10)                2570      \n",
      "=================================================================\n",
      "Total params: 6,441,866\n",
      "Trainable params: 6,441,866\n",
      "Non-trainable params: 0\n",
      "_________________________________________________________________\n"
     ]
    }
   ],
   "source": [
    "model.summary()"
   ]
  },
  {
   "cell_type": "markdown",
   "metadata": {
    "colab_type": "text",
    "id": "-2zdKsBMz56s"
   },
   "source": [
    "fit model"
   ]
  },
  {
   "cell_type": "code",
   "execution_count": 16,
   "metadata": {
    "colab": {
     "base_uri": "https://localhost:8080/",
     "height": 382
    },
    "colab_type": "code",
    "executionInfo": {
     "elapsed": 746757,
     "status": "ok",
     "timestamp": 1589888261603,
     "user": {
      "displayName": "Aidin Zehtab",
      "photoUrl": "https://lh3.googleusercontent.com/a-/AOh14Gh1AfLrAaNilXGI3VZU2KwKhp3IIw0ikwf3L4LH3g=s64",
      "userId": "16441557016137319648"
     },
     "user_tz": -270
    },
    "id": "BtkkglTlqz79",
    "outputId": "58f87c54-8bb7-4345-8c81-92f4e15f4661",
    "scrolled": true
   },
   "outputs": [
    {
     "name": "stdout",
     "output_type": "stream",
     "text": [
      "Epoch 1/10\n",
      "40/40 [==============================] - 73s 2s/step - loss: 2.1690 - acc: 0.2107 - val_loss: 1.9949 - val_acc: 0.2781\n",
      "Epoch 2/10\n",
      "40/40 [==============================] - 72s 2s/step - loss: 1.8034 - acc: 0.3570 - val_loss: 1.6993 - val_acc: 0.4039\n",
      "Epoch 3/10\n",
      "40/40 [==============================] - 72s 2s/step - loss: 1.3857 - acc: 0.5186 - val_loss: 1.5947 - val_acc: 0.4023\n",
      "Epoch 4/10\n",
      "40/40 [==============================] - 73s 2s/step - loss: 1.0515 - acc: 0.6359 - val_loss: 1.5486 - val_acc: 0.4492\n",
      "Epoch 5/10\n",
      "40/40 [==============================] - 72s 2s/step - loss: 0.7457 - acc: 0.7604 - val_loss: 1.6153 - val_acc: 0.4938\n",
      "Epoch 6/10\n",
      "40/40 [==============================] - 72s 2s/step - loss: 0.5256 - acc: 0.8369 - val_loss: 1.6961 - val_acc: 0.4875\n",
      "Epoch 7/10\n",
      "40/40 [==============================] - 72s 2s/step - loss: 0.3621 - acc: 0.8945 - val_loss: 1.5967 - val_acc: 0.5305\n",
      "Epoch 8/10\n",
      "40/40 [==============================] - 72s 2s/step - loss: 0.2334 - acc: 0.9357 - val_loss: 1.7705 - val_acc: 0.5070\n",
      "Epoch 9/10\n",
      "40/40 [==============================] - 72s 2s/step - loss: 0.1544 - acc: 0.9594 - val_loss: 1.9592 - val_acc: 0.5094\n",
      "Epoch 10/10\n",
      "40/40 [==============================] - 72s 2s/step - loss: 0.1009 - acc: 0.9744 - val_loss: 2.1693 - val_acc: 0.4898\n"
     ]
    },
    {
     "data": {
      "text/plain": [
       "<tensorflow.python.keras.callbacks.History at 0x7f7f51b810f0>"
      ]
     },
     "execution_count": 16,
     "metadata": {
      "tags": []
     },
     "output_type": "execute_result"
    }
   ],
   "source": [
    "model.fit(X_train, y_train, epochs=10, batch_size=128, validation_split=0.2)"
   ]
  },
  {
   "cell_type": "markdown",
   "metadata": {
    "colab_type": "text",
    "id": "H3CDM8hzz_wK"
   },
   "source": [
    "# **reports**"
   ]
  },
  {
   "cell_type": "code",
   "execution_count": 18,
   "metadata": {
    "colab": {
     "base_uri": "https://localhost:8080/",
     "height": 330
    },
    "colab_type": "code",
    "executionInfo": {
     "elapsed": 5148,
     "status": "ok",
     "timestamp": 1589888566263,
     "user": {
      "displayName": "Aidin Zehtab",
      "photoUrl": "https://lh3.googleusercontent.com/a-/AOh14Gh1AfLrAaNilXGI3VZU2KwKhp3IIw0ikwf3L4LH3g=s64",
      "userId": "16441557016137319648"
     },
     "user_tz": -270
    },
    "id": "qXDbbLZxqz8E",
    "outputId": "f078408f-53a2-4002-c085-a7719a39427a"
   },
   "outputs": [
    {
     "name": "stdout",
     "output_type": "stream",
     "text": [
      "classification_report\n",
      "              precision    recall  f1-score   support\n",
      "\n",
      "           0      0.482     0.467     0.474       197\n",
      "           1      0.315     0.373     0.342       260\n",
      "           2      0.375     0.485     0.423        99\n",
      "           3      0.514     0.397     0.448       136\n",
      "           4      0.738     0.678     0.707       199\n",
      "           5      0.864     0.646     0.739       158\n",
      "           6      0.906     0.369     0.525       130\n",
      "           7      0.621     0.409     0.493       132\n",
      "           8      0.313     0.647     0.422       153\n",
      "           9      0.568     0.463     0.510       136\n",
      "\n",
      "    accuracy                          0.495      1600\n",
      "   macro avg      0.570     0.493     0.508      1600\n",
      "weighted avg      0.558     0.495     0.506      1600\n",
      "\n"
     ]
    }
   ],
   "source": [
    "prediction_probas = model.predict(X_test) \n",
    "y_pred = [np.argmax(pred) for pred in prediction_probas]\n",
    "y__test=np.argmax(y_test, axis=1)\n",
    "labels_n = list(df.labels.unique())\n",
    "print('classification_report\\n'+classification_report(y__test, y_pred, digits=3))"
   ]
  },
  {
   "cell_type": "code",
   "execution_count": 19,
   "metadata": {
    "colab": {
     "base_uri": "https://localhost:8080/",
     "height": 314
    },
    "colab_type": "code",
    "executionInfo": {
     "elapsed": 1749,
     "status": "ok",
     "timestamp": 1589888573116,
     "user": {
      "displayName": "Aidin Zehtab",
      "photoUrl": "https://lh3.googleusercontent.com/a-/AOh14Gh1AfLrAaNilXGI3VZU2KwKhp3IIw0ikwf3L4LH3g=s64",
      "userId": "16441557016137319648"
     },
     "user_tz": -270
    },
    "id": "u7trm20Rqz8Q",
    "outputId": "4aca139a-c960-4e21-92ca-c3dc3a507fd0"
   },
   "outputs": [
    {
     "name": "stdout",
     "output_type": "stream",
     "text": [
      "Confusion matrix, without normalization\n"
     ]
    },
    {
     "data": {
      "image/png": "[encoded data removed]",
      "text/plain": [
       "<Figure size 432x288 with 2 Axes>"
      ]
     },
     "metadata": {
      "needs_background": "light",
      "tags": []
     },
     "output_type": "display_data"
    }
   ],
   "source": [
    "plot_confusion_matrix(y__test,np.array(y_pred),np.array(labels_n))\n",
    "plt.show()\n"
   ]
  }
 ],
 "metadata": {
  "colab": {
   "collapsed_sections": [
    "u1nbvxwZrnpT",
    "R6-gv-Jsv5T0",
    "uK5FnU5vwD4a",
    "dGqpz_kuzvba",
    "H3CDM8hzz_wK"
   ],
   "name": "keras_emb_lstm.ipynb",
   "provenance": []
  },
  "kernelspec": {
   "display_name": "Python 3",
   "language": "python",
   "name": "python3"
  },
  "language_info": {
   "codemirror_mode": {
    "name": "ipython",
    "version": 3
   },
   "file_extension": ".py",
   "mimetype": "text/x-python",
   "name": "python",
   "nbconvert_exporter": "python",
   "pygments_lexer": "ipython3",
   "version": "3.6.9"
  }
 },
 "nbformat": 4,
 "nbformat_minor": 1
}
