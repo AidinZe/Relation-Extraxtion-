{
 "cells": [
  {
   "cell_type": "markdown",
   "metadata": {
    "colab_type": "text",
    "id": "u1nbvxwZrnpT"
   },
   "source": [
    "# **relation italicized text extraction with GRU model and word2vec embeding**"
   ]
  },
  {
   "cell_type": "code",
   "execution_count": 1,
   "metadata": {
    "colab": {
     "base_uri": "https://localhost:8080/",
     "height": 34
    },
    "colab_type": "code",
    "executionInfo": {
     "elapsed": 2884,
     "status": "ok",
     "timestamp": 1589889865293,
     "user": {
      "displayName": "Aidin Zehtab",
      "photoUrl": "https://lh3.googleusercontent.com/a-/AOh14Gh1AfLrAaNilXGI3VZU2KwKhp3IIw0ikwf3L4LH3g=s64",
      "userId": "16441557016137319648"
     },
     "user_tz": -270
    },
    "id": "EjtyULpbqz6f",
    "outputId": "831f17f4-a9f4-4b2d-ad90-e4782204ccdc",
    "scrolled": true
   },
   "outputs": [
    {
     "name": "stderr",
     "output_type": "stream",
     "text": [
      "Using TensorFlow backend.\n"
     ]
    }
   ],
   "source": [
    "import pandas as pd\n",
    "from tensorflow.keras.preprocessing.text import Tokenizer\n",
    "from tensorflow.keras.preprocessing.sequence import pad_sequences\n",
    "from keras.utils import to_categorical\n",
    "from sklearn.model_selection import train_test_split\n",
    "from tensorflow.keras import Sequential\n",
    "from tensorflow.keras.layers import Bidirectional,GRU,Dense,Embedding\n",
    "from sklearn.metrics import confusion_matrix,classification_report\n",
    "from sklearn.utils.multiclass import unique_labels\n",
    "import numpy as np\n",
    "import matplotlib.pyplot as plt"
   ]
  },
  {
   "cell_type": "markdown",
   "metadata": {
    "colab_type": "text",
    "id": "R6-gv-Jsv5T0"
   },
   "source": [
    "# **plot_confusion_matrix definition**"
   ]
  },
  {
   "cell_type": "code",
   "execution_count": 0,
   "metadata": {
    "colab": {},
    "colab_type": "code",
    "id": "IXwoR1euqz6w"
   },
   "outputs": [],
   "source": [
    "def plot_confusion_matrix(y_true, y_pred, classes,\n",
    "                          normalize=False,\n",
    "                          title=None,\n",
    "                          cmap=plt.cm.Blues):\n",
    "    \"\"\"\n",
    "    This function prints and plots the confusion matrix.\n",
    "    Normalization can be applied by setting `normalize=True`.\n",
    "    \"\"\"\n",
    "    if not title:\n",
    "        if normalize:\n",
    "            title = 'Normalized confusion matrix'\n",
    "        else:\n",
    "            title = 'Confusion matrix, without normalization'\n",
    "\n",
    "    # Compute confusion matrix\n",
    "    cm = confusion_matrix(y_true, y_pred)\n",
    "    # Only use the labels that appear in the data\n",
    "    classes = classes[unique_labels(y_true, y_pred)]\n",
    "    if normalize:\n",
    "        cm = cm.astype('float') / cm.sum(axis=1)[:, np.newaxis]\n",
    "        print(\"Normalized confusion matrix\")\n",
    "    else:\n",
    "        print('Confusion matrix, without normalization')\n",
    "\n",
    "\n",
    "    fig, ax = plt.subplots()\n",
    "    im = ax.imshow(cm, interpolation='nearest', cmap=cmap)\n",
    "    ax.figure.colorbar(im, ax=ax)\n",
    "    # We want to show all ticks...\n",
    "    ax.set(xticks=np.arange(cm.shape[1]),\n",
    "           yticks=np.arange(cm.shape[0]),\n",
    "           # ... and label them with the respective list entries\n",
    "           xticklabels=classes, yticklabels=classes,\n",
    "           title=title,\n",
    "           ylabel='True label',\n",
    "           xlabel='Predicted label')\n",
    "\n",
    "    # Rotate the tick labels and set their alignment.\n",
    "    plt.setp(ax.get_xticklabels(), rotation=45, ha=\"right\",\n",
    "             rotation_mode=\"anchor\")\n",
    "\n",
    "    # Loop over data dimensions and create text annotations.\n",
    "    fmt = '.2f' if normalize else 'd'\n",
    "    thresh = cm.max() / 2.\n",
    "    for i in range(cm.shape[0]):\n",
    "        for j in range(cm.shape[1]):\n",
    "            ax.text(j, i, format(cm[i, j], fmt),\n",
    "                    ha=\"center\", va=\"center\",\n",
    "                    color=\"white\" if cm[i, j] > thresh else \"black\")\n",
    "    fig.tight_layout()\n",
    "    return ax"
   ]
  },
  {
   "cell_type": "markdown",
   "metadata": {
    "colab_type": "text",
    "id": "uK5FnU5vwD4a"
   },
   "source": [
    "# **read and split dataset**"
   ]
  },
  {
   "cell_type": "code",
   "execution_count": 0,
   "metadata": {
    "colab": {},
    "colab_type": "code",
    "id": "4IurJsMPqz68"
   },
   "outputs": [],
   "source": [
    "df = pd.read_excel('SemEval2010_task8.xls')"
   ]
  },
  {
   "cell_type": "code",
   "execution_count": 5,
   "metadata": {
    "colab": {
     "base_uri": "https://localhost:8080/",
     "height": 34
    },
    "colab_type": "code",
    "executionInfo": {
     "elapsed": 1228,
     "status": "ok",
     "timestamp": 1589889911594,
     "user": {
      "displayName": "Aidin Zehtab",
      "photoUrl": "https://lh3.googleusercontent.com/a-/AOh14Gh1AfLrAaNilXGI3VZU2KwKhp3IIw0ikwf3L4LH3g=s64",
      "userId": "16441557016137319648"
     },
     "user_tz": -270
    },
    "id": "1bU2Ez2Aqz7F",
    "outputId": "7a7877ba-1f87-42e4-c267-516c929e9a4d"
   },
   "outputs": [
    {
     "name": "stdout",
     "output_type": "stream",
     "text": [
      "Found 25675 unique tokens.\n"
     ]
    }
   ],
   "source": [
    "n_most_common_words = 20000 # vocabulary size\n",
    "max_len = 100\n",
    "# Initialization\n",
    "tokenizer = Tokenizer(num_words=n_most_common_words, filters='!\"#$%&()*+,-./:;=?@[]^_`{|}~', lower=True)\n",
    "# Fit and transformation\n",
    "tokenizer.fit_on_texts(df['sentences'].values)\n",
    "sequences = tokenizer.texts_to_sequences(df['sentences'].values)\n",
    "word_index = tokenizer.word_index\n",
    "print('Found %s unique tokens.' % len(word_index))\n",
    "# Padding\n",
    "X = pad_sequences(sequences, maxlen=max_len)"
   ]
  },
  {
   "cell_type": "code",
   "execution_count": 0,
   "metadata": {
    "colab": {},
    "colab_type": "code",
    "id": "5yPkqdzOqz7N"
   },
   "outputs": [],
   "source": [
    "codeOfLabals = []\n",
    "for i in df['labels']:\n",
    "    codeOfLabals.append(list(df.labels.unique()).index(i))"
   ]
  },
  {
   "cell_type": "code",
   "execution_count": 7,
   "metadata": {
    "colab": {
     "base_uri": "https://localhost:8080/",
     "height": 86
    },
    "colab_type": "code",
    "executionInfo": {
     "elapsed": 879,
     "status": "ok",
     "timestamp": 1589889919633,
     "user": {
      "displayName": "Aidin Zehtab",
      "photoUrl": "https://lh3.googleusercontent.com/a-/AOh14Gh1AfLrAaNilXGI3VZU2KwKhp3IIw0ikwf3L4LH3g=s64",
      "userId": "16441557016137319648"
     },
     "user_tz": -270
    },
    "id": "Iu6AqNKuqz7U",
    "outputId": "15078427-221f-4b51-e450-a93e0d407787",
    "scrolled": true
   },
   "outputs": [
    {
     "data": {
      "text/plain": [
       "array(['Component-Whole', 'Other', 'Instrument-Agency',\n",
       "       'Member-Collection', 'Cause-Effect', 'Entity-Destination',\n",
       "       'Content-Container', 'Message-Topic', 'Product-Producer',\n",
       "       'Entity-Origin'], dtype=object)"
      ]
     },
     "execution_count": 7,
     "metadata": {
      "tags": []
     },
     "output_type": "execute_result"
    }
   ],
   "source": [
    "df.labels.unique()"
   ]
  },
  {
   "cell_type": "code",
   "execution_count": 0,
   "metadata": {
    "colab": {},
    "colab_type": "code",
    "id": "3JtY9l6oqz7c",
    "scrolled": true
   },
   "outputs": [],
   "source": [
    "labels = to_categorical(codeOfLabals, num_classes=len(df.labels.unique())) # from keras.utils.np_utils"
   ]
  },
  {
   "cell_type": "code",
   "execution_count": 0,
   "metadata": {
    "colab": {},
    "colab_type": "code",
    "id": "BDdF061wqz7i"
   },
   "outputs": [],
   "source": [
    "X_train, X_test, y_train, y_test = train_test_split(X , labels, test_size=0.20, random_state=42)"
   ]
  },
  {
   "cell_type": "markdown",
   "metadata": {
    "colab_type": "text",
    "id": "dGqpz_kuzvba"
   },
   "source": [
    "# **create model**"
   ]
  },
  {
   "cell_type": "code",
   "execution_count": 0,
   "metadata": {
    "colab": {},
    "colab_type": "code",
    "id": "RJHTOe_7qz7o"
   },
   "outputs": [],
   "source": [
    "embedding_size = 300\n",
    "model = Sequential()\n",
    "model.add(Embedding(n_most_common_words, embedding_size, input_length=X.shape[1]))\n",
    "model.add(Bidirectional(GRU(128, dropout=0.3, recurrent_dropout=0.3)))\n",
    "model.add(Dense(labels.shape[1], activation='softmax'))"
   ]
  },
  {
   "cell_type": "code",
   "execution_count": 0,
   "metadata": {
    "colab": {},
    "colab_type": "code",
    "id": "duyHEIg6qz7u"
   },
   "outputs": [],
   "source": [
    "model.compile(optimizer='RMSProp', loss='categorical_crossentropy', metrics=['acc'])"
   ]
  },
  {
   "cell_type": "code",
   "execution_count": 13,
   "metadata": {
    "colab": {
     "base_uri": "https://localhost:8080/",
     "height": 260
    },
    "colab_type": "code",
    "executionInfo": {
     "elapsed": 828,
     "status": "ok",
     "timestamp": 1589889946746,
     "user": {
      "displayName": "Aidin Zehtab",
      "photoUrl": "https://lh3.googleusercontent.com/a-/AOh14Gh1AfLrAaNilXGI3VZU2KwKhp3IIw0ikwf3L4LH3g=s64",
      "userId": "16441557016137319648"
     },
     "user_tz": -270
    },
    "id": "1W4tTKQdqz71",
    "outputId": "311320df-f3b5-4845-f47d-4d5922de51a2"
   },
   "outputs": [
    {
     "name": "stdout",
     "output_type": "stream",
     "text": [
      "Model: \"sequential_1\"\n",
      "_________________________________________________________________\n",
      "Layer (type)                 Output Shape              Param #   \n",
      "=================================================================\n",
      "embedding_1 (Embedding)      (None, 100, 300)          6000000   \n",
      "_________________________________________________________________\n",
      "bidirectional (Bidirectional (None, 256)               330240    \n",
      "_________________________________________________________________\n",
      "dense (Dense)                (None, 10)                2570      \n",
      "=================================================================\n",
      "Total params: 6,332,810\n",
      "Trainable params: 6,332,810\n",
      "Non-trainable params: 0\n",
      "_________________________________________________________________\n"
     ]
    }
   ],
   "source": [
    "model.summary()"
   ]
  },
  {
   "cell_type": "markdown",
   "metadata": {
    "colab_type": "text",
    "id": "-2zdKsBMz56s"
   },
   "source": [
    "fit model"
   ]
  },
  {
   "cell_type": "code",
   "execution_count": 14,
   "metadata": {
    "colab": {
     "base_uri": "https://localhost:8080/",
     "height": 382
    },
    "colab_type": "code",
    "executionInfo": {
     "elapsed": 675966,
     "status": "ok",
     "timestamp": 1589890625198,
     "user": {
      "displayName": "Aidin Zehtab",
      "photoUrl": "https://lh3.googleusercontent.com/a-/AOh14Gh1AfLrAaNilXGI3VZU2KwKhp3IIw0ikwf3L4LH3g=s64",
      "userId": "16441557016137319648"
     },
     "user_tz": -270
    },
    "id": "BtkkglTlqz79",
    "outputId": "85c5cb37-c92d-46ff-d9c7-cec3ad7e2748",
    "scrolled": true
   },
   "outputs": [
    {
     "name": "stdout",
     "output_type": "stream",
     "text": [
      "Epoch 1/10\n",
      "40/40 [==============================] - 66s 2s/step - loss: 2.1996 - acc: 0.1912 - val_loss: 2.0647 - val_acc: 0.2469\n",
      "Epoch 2/10\n",
      "40/40 [==============================] - 65s 2s/step - loss: 1.9212 - acc: 0.2973 - val_loss: 1.8686 - val_acc: 0.3133\n",
      "Epoch 3/10\n",
      "40/40 [==============================] - 65s 2s/step - loss: 1.6099 - acc: 0.4281 - val_loss: 1.7175 - val_acc: 0.3812\n",
      "Epoch 4/10\n",
      "40/40 [==============================] - 66s 2s/step - loss: 1.2860 - acc: 0.5574 - val_loss: 1.7264 - val_acc: 0.4000\n",
      "Epoch 5/10\n",
      "40/40 [==============================] - 65s 2s/step - loss: 0.9911 - acc: 0.6762 - val_loss: 1.8616 - val_acc: 0.3984\n",
      "Epoch 6/10\n",
      "40/40 [==============================] - 65s 2s/step - loss: 0.7515 - acc: 0.7785 - val_loss: 1.9123 - val_acc: 0.4242\n",
      "Epoch 7/10\n",
      "40/40 [==============================] - 65s 2s/step - loss: 0.5672 - acc: 0.8500 - val_loss: 1.8953 - val_acc: 0.4531\n",
      "Epoch 8/10\n",
      "40/40 [==============================] - 65s 2s/step - loss: 0.3891 - acc: 0.9062 - val_loss: 1.9682 - val_acc: 0.4547\n",
      "Epoch 9/10\n",
      "40/40 [==============================] - 65s 2s/step - loss: 0.2617 - acc: 0.9396 - val_loss: 2.1940 - val_acc: 0.4602\n",
      "Epoch 10/10\n",
      "40/40 [==============================] - 66s 2s/step - loss: 0.1760 - acc: 0.9584 - val_loss: 2.2033 - val_acc: 0.4727\n"
     ]
    },
    {
     "data": {
      "text/plain": [
       "<tensorflow.python.keras.callbacks.History at 0x7f860a8b15c0>"
      ]
     },
     "execution_count": 14,
     "metadata": {
      "tags": []
     },
     "output_type": "execute_result"
    }
   ],
   "source": [
    "model.fit(X_train, y_train, epochs=10, batch_size=128, validation_split=0.2)"
   ]
  },
  {
   "cell_type": "markdown",
   "metadata": {
    "colab_type": "text",
    "id": "H3CDM8hzz_wK"
   },
   "source": [
    "# **reports**"
   ]
  },
  {
   "cell_type": "code",
   "execution_count": 15,
   "metadata": {
    "colab": {
     "base_uri": "https://localhost:8080/",
     "height": 330
    },
    "colab_type": "code",
    "executionInfo": {
     "elapsed": 4940,
     "status": "ok",
     "timestamp": 1589891172618,
     "user": {
      "displayName": "Aidin Zehtab",
      "photoUrl": "https://lh3.googleusercontent.com/a-/AOh14Gh1AfLrAaNilXGI3VZU2KwKhp3IIw0ikwf3L4LH3g=s64",
      "userId": "16441557016137319648"
     },
     "user_tz": -270
    },
    "id": "qXDbbLZxqz8E",
    "outputId": "88260772-184c-4fd8-ff25-e06634bc4b8c"
   },
   "outputs": [
    {
     "name": "stdout",
     "output_type": "stream",
     "text": [
      "classification_report\n",
      "              precision    recall  f1-score   support\n",
      "\n",
      "           0      0.389     0.391     0.390       197\n",
      "           1      0.301     0.315     0.308       260\n",
      "           2      0.232     0.222     0.227        99\n",
      "           3      0.407     0.500     0.449       136\n",
      "           4      0.691     0.774     0.730       199\n",
      "           5      0.862     0.671     0.754       158\n",
      "           6      0.736     0.600     0.661       130\n",
      "           7      0.527     0.220     0.310       132\n",
      "           8      0.298     0.333     0.315       153\n",
      "           9      0.437     0.610     0.509       136\n",
      "\n",
      "    accuracy                          0.469      1600\n",
      "   macro avg      0.488     0.464     0.465      1600\n",
      "weighted avg      0.486     0.469     0.468      1600\n",
      "\n"
     ]
    }
   ],
   "source": [
    "prediction_probas = model.predict(X_test) \n",
    "y_pred = [np.argmax(pred) for pred in prediction_probas]\n",
    "y__test=np.argmax(y_test, axis=1)\n",
    "labels_n = list(df.labels.unique())\n",
    "print('classification_report\\n'+classification_report(y__test, y_pred, digits=3))"
   ]
  },
  {
   "cell_type": "code",
   "execution_count": 16,
   "metadata": {
    "colab": {
     "base_uri": "https://localhost:8080/",
     "height": 314
    },
    "colab_type": "code",
    "executionInfo": {
     "elapsed": 1753,
     "status": "ok",
     "timestamp": 1589891176685,
     "user": {
      "displayName": "Aidin Zehtab",
      "photoUrl": "https://lh3.googleusercontent.com/a-/AOh14Gh1AfLrAaNilXGI3VZU2KwKhp3IIw0ikwf3L4LH3g=s64",
      "userId": "16441557016137319648"
     },
     "user_tz": -270
    },
    "id": "u7trm20Rqz8Q",
    "outputId": "dac664a2-aa8d-4740-8443-e6edd5094e43"
   },
   "outputs": [
    {
     "name": "stdout",
     "output_type": "stream",
     "text": [
      "Confusion matrix, without normalization\n"
     ]
    },
    {
     "data": {
      "image/png": "[encoded data removed]",
      "text/plain": [
       "<Figure size 432x288 with 2 Axes>"
      ]
     },
     "metadata": {
      "needs_background": "light",
      "tags": []
     },
     "output_type": "display_data"
    }
   ],
   "source": [
    "plot_confusion_matrix(y__test,np.array(y_pred),np.array(labels_n))\n",
    "plt.show()\n"
   ]
  }
 ],
 "metadata": {
  "colab": {
   "collapsed_sections": [
    "u1nbvxwZrnpT",
    "R6-gv-Jsv5T0",
    "uK5FnU5vwD4a",
    "dGqpz_kuzvba",
    "H3CDM8hzz_wK"
   ],
   "name": "keras_emb_gru.ipynb",
   "provenance": []
  },
  "kernelspec": {
   "display_name": "Python 3",
   "language": "python",
   "name": "python3"
  },
  "language_info": {
   "codemirror_mode": {
    "name": "ipython",
    "version": 3
   },
   "file_extension": ".py",
   "mimetype": "text/x-python",
   "name": "python",
   "nbconvert_exporter": "python",
   "pygments_lexer": "ipython3",
   "version": "3.6.9"
  }
 },
 "nbformat": 4,
 "nbformat_minor": 1
}
